{
 "cells": [
  {
   "cell_type": "code",
   "execution_count": 1,
   "id": "e1a65b06-215a-4591-b4c0-7b18862b3236",
   "metadata": {},
   "outputs": [],
   "source": [
    "import pandas as pd\n",
    "import numpy as np"
   ]
  },
  {
   "cell_type": "code",
   "execution_count": 2,
   "id": "804325be-f9e8-4fb3-a422-b27d91203a3e",
   "metadata": {},
   "outputs": [],
   "source": [
    "df = pd.read_csv(\"cStick.csv\")"
   ]
  },
  {
   "cell_type": "code",
   "execution_count": 3,
   "id": "b60a7a41-38e5-4e76-a54b-49bb2b58fcae",
   "metadata": {},
   "outputs": [
    {
     "data": {
      "text/html": [
       "<div>\n",
       "<style scoped>\n",
       "    .dataframe tbody tr th:only-of-type {\n",
       "        vertical-align: middle;\n",
       "    }\n",
       "\n",
       "    .dataframe tbody tr th {\n",
       "        vertical-align: top;\n",
       "    }\n",
       "\n",
       "    .dataframe thead th {\n",
       "        text-align: right;\n",
       "    }\n",
       "</style>\n",
       "<table border=\"1\" class=\"dataframe\">\n",
       "  <thead>\n",
       "    <tr style=\"text-align: right;\">\n",
       "      <th></th>\n",
       "      <th>Distance</th>\n",
       "      <th>Pressure</th>\n",
       "      <th>HRV</th>\n",
       "      <th>Sugar level</th>\n",
       "      <th>SpO2</th>\n",
       "      <th>Accelerometer</th>\n",
       "      <th>Decision</th>\n",
       "    </tr>\n",
       "  </thead>\n",
       "  <tbody>\n",
       "    <tr>\n",
       "      <th>0</th>\n",
       "      <td>25.540</td>\n",
       "      <td>1</td>\n",
       "      <td>101.396</td>\n",
       "      <td>61.080</td>\n",
       "      <td>87.770</td>\n",
       "      <td>1</td>\n",
       "      <td>1</td>\n",
       "    </tr>\n",
       "    <tr>\n",
       "      <th>1</th>\n",
       "      <td>2.595</td>\n",
       "      <td>2</td>\n",
       "      <td>110.190</td>\n",
       "      <td>20.207</td>\n",
       "      <td>65.190</td>\n",
       "      <td>1</td>\n",
       "      <td>2</td>\n",
       "    </tr>\n",
       "    <tr>\n",
       "      <th>2</th>\n",
       "      <td>68.067</td>\n",
       "      <td>0</td>\n",
       "      <td>87.412</td>\n",
       "      <td>79.345</td>\n",
       "      <td>99.345</td>\n",
       "      <td>0</td>\n",
       "      <td>0</td>\n",
       "    </tr>\n",
       "    <tr>\n",
       "      <th>3</th>\n",
       "      <td>13.090</td>\n",
       "      <td>1</td>\n",
       "      <td>92.266</td>\n",
       "      <td>36.180</td>\n",
       "      <td>81.545</td>\n",
       "      <td>1</td>\n",
       "      <td>1</td>\n",
       "    </tr>\n",
       "    <tr>\n",
       "      <th>4</th>\n",
       "      <td>69.430</td>\n",
       "      <td>0</td>\n",
       "      <td>89.480</td>\n",
       "      <td>80.000</td>\n",
       "      <td>99.990</td>\n",
       "      <td>0</td>\n",
       "      <td>0</td>\n",
       "    </tr>\n",
       "  </tbody>\n",
       "</table>\n",
       "</div>"
      ],
      "text/plain": [
       "   Distance  Pressure      HRV  Sugar level    SpO2  Accelerometer  Decision\n",
       "0    25.540         1  101.396       61.080  87.770              1         1\n",
       "1     2.595         2  110.190       20.207  65.190              1         2\n",
       "2    68.067         0   87.412       79.345  99.345              0         0\n",
       "3    13.090         1   92.266       36.180  81.545              1         1\n",
       "4    69.430         0   89.480       80.000  99.990              0         0"
      ]
     },
     "execution_count": 3,
     "metadata": {},
     "output_type": "execute_result"
    }
   ],
   "source": [
    "df.head()"
   ]
  },
  {
   "cell_type": "code",
   "execution_count": 4,
   "id": "21b00315-2520-4547-8a01-b0eac46fcdec",
   "metadata": {},
   "outputs": [
    {
     "data": {
      "text/html": [
       "<div>\n",
       "<style scoped>\n",
       "    .dataframe tbody tr th:only-of-type {\n",
       "        vertical-align: middle;\n",
       "    }\n",
       "\n",
       "    .dataframe tbody tr th {\n",
       "        vertical-align: top;\n",
       "    }\n",
       "\n",
       "    .dataframe thead th {\n",
       "        text-align: right;\n",
       "    }\n",
       "</style>\n",
       "<table border=\"1\" class=\"dataframe\">\n",
       "  <thead>\n",
       "    <tr style=\"text-align: right;\">\n",
       "      <th></th>\n",
       "      <th>Distance</th>\n",
       "      <th>Pressure</th>\n",
       "      <th>HRV</th>\n",
       "      <th>Sugar level</th>\n",
       "      <th>SpO2</th>\n",
       "      <th>Accelerometer</th>\n",
       "      <th>Decision</th>\n",
       "    </tr>\n",
       "  </thead>\n",
       "  <tbody>\n",
       "    <tr>\n",
       "      <th>count</th>\n",
       "      <td>2039.000000</td>\n",
       "      <td>2039.000000</td>\n",
       "      <td>2039.000000</td>\n",
       "      <td>2039.000000</td>\n",
       "      <td>2039.000000</td>\n",
       "      <td>2039.000000</td>\n",
       "      <td>2039.000000</td>\n",
       "    </tr>\n",
       "    <tr>\n",
       "      <th>mean</th>\n",
       "      <td>28.694527</td>\n",
       "      <td>0.988720</td>\n",
       "      <td>95.657002</td>\n",
       "      <td>72.909243</td>\n",
       "      <td>83.563649</td>\n",
       "      <td>0.661599</td>\n",
       "      <td>0.988720</td>\n",
       "    </tr>\n",
       "    <tr>\n",
       "      <th>std</th>\n",
       "      <td>23.773644</td>\n",
       "      <td>0.815918</td>\n",
       "      <td>17.576499</td>\n",
       "      <td>46.940110</td>\n",
       "      <td>11.111592</td>\n",
       "      <td>0.473282</td>\n",
       "      <td>0.815918</td>\n",
       "    </tr>\n",
       "    <tr>\n",
       "      <th>min</th>\n",
       "      <td>0.000000</td>\n",
       "      <td>0.000000</td>\n",
       "      <td>60.000000</td>\n",
       "      <td>10.000000</td>\n",
       "      <td>60.000000</td>\n",
       "      <td>0.000000</td>\n",
       "      <td>0.000000</td>\n",
       "    </tr>\n",
       "    <tr>\n",
       "      <th>25%</th>\n",
       "      <td>7.642500</td>\n",
       "      <td>0.000000</td>\n",
       "      <td>82.418000</td>\n",
       "      <td>40.230000</td>\n",
       "      <td>75.285000</td>\n",
       "      <td>0.000000</td>\n",
       "      <td>0.000000</td>\n",
       "    </tr>\n",
       "    <tr>\n",
       "      <th>50%</th>\n",
       "      <td>20.560000</td>\n",
       "      <td>1.000000</td>\n",
       "      <td>97.238000</td>\n",
       "      <td>69.960000</td>\n",
       "      <td>85.280000</td>\n",
       "      <td>1.000000</td>\n",
       "      <td>1.000000</td>\n",
       "    </tr>\n",
       "    <tr>\n",
       "      <th>75%</th>\n",
       "      <td>55.205500</td>\n",
       "      <td>2.000000</td>\n",
       "      <td>109.695000</td>\n",
       "      <td>77.612500</td>\n",
       "      <td>92.692500</td>\n",
       "      <td>1.000000</td>\n",
       "      <td>2.000000</td>\n",
       "    </tr>\n",
       "    <tr>\n",
       "      <th>max</th>\n",
       "      <td>69.981000</td>\n",
       "      <td>2.000000</td>\n",
       "      <td>124.980000</td>\n",
       "      <td>179.293000</td>\n",
       "      <td>99.990000</td>\n",
       "      <td>1.000000</td>\n",
       "      <td>2.000000</td>\n",
       "    </tr>\n",
       "  </tbody>\n",
       "</table>\n",
       "</div>"
      ],
      "text/plain": [
       "          Distance     Pressure          HRV  Sugar level         SpO2  \\\n",
       "count  2039.000000  2039.000000  2039.000000  2039.000000  2039.000000   \n",
       "mean     28.694527     0.988720    95.657002    72.909243    83.563649   \n",
       "std      23.773644     0.815918    17.576499    46.940110    11.111592   \n",
       "min       0.000000     0.000000    60.000000    10.000000    60.000000   \n",
       "25%       7.642500     0.000000    82.418000    40.230000    75.285000   \n",
       "50%      20.560000     1.000000    97.238000    69.960000    85.280000   \n",
       "75%      55.205500     2.000000   109.695000    77.612500    92.692500   \n",
       "max      69.981000     2.000000   124.980000   179.293000    99.990000   \n",
       "\n",
       "       Accelerometer     Decision  \n",
       "count    2039.000000  2039.000000  \n",
       "mean        0.661599     0.988720  \n",
       "std         0.473282     0.815918  \n",
       "min         0.000000     0.000000  \n",
       "25%         0.000000     0.000000  \n",
       "50%         1.000000     1.000000  \n",
       "75%         1.000000     2.000000  \n",
       "max         1.000000     2.000000  "
      ]
     },
     "execution_count": 4,
     "metadata": {},
     "output_type": "execute_result"
    }
   ],
   "source": [
    "df.describe()"
   ]
  },
  {
   "cell_type": "code",
   "execution_count": 5,
   "id": "0d74c67f-4d48-404c-9b4f-3ac201add208",
   "metadata": {},
   "outputs": [
    {
     "data": {
      "text/plain": [
       "Distance         float64\n",
       "Pressure           int64\n",
       "HRV              float64\n",
       "Sugar level      float64\n",
       "SpO2             float64\n",
       "Accelerometer      int64\n",
       "Decision           int64\n",
       "dtype: object"
      ]
     },
     "execution_count": 5,
     "metadata": {},
     "output_type": "execute_result"
    }
   ],
   "source": [
    "df.dtypes"
   ]
  },
  {
   "cell_type": "code",
   "execution_count": 6,
   "id": "60c81604-5efe-49ac-a2ce-fd03b24aa018",
   "metadata": {},
   "outputs": [
    {
     "data": {
      "text/plain": [
       "(2039, 7)"
      ]
     },
     "execution_count": 6,
     "metadata": {},
     "output_type": "execute_result"
    }
   ],
   "source": [
    "df.shape"
   ]
  },
  {
   "cell_type": "code",
   "execution_count": 7,
   "id": "0134b71d-0430-4cd2-943e-4dcd67004d66",
   "metadata": {},
   "outputs": [
    {
     "data": {
      "text/plain": [
       "Decision\n",
       "0    690\n",
       "1    682\n",
       "2    667\n",
       "Name: count, dtype: int64"
      ]
     },
     "execution_count": 7,
     "metadata": {},
     "output_type": "execute_result"
    }
   ],
   "source": [
    "df['Decision'].value_counts()"
   ]
  },
  {
   "cell_type": "code",
   "execution_count": 8,
   "id": "d41aeb2d-0c39-46ec-be2d-c27f6cf61e0b",
   "metadata": {},
   "outputs": [
    {
     "data": {
      "text/plain": [
       "Distance        -0.946120\n",
       "SpO2            -0.923111\n",
       "Sugar level      0.156680\n",
       "Accelerometer    0.866866\n",
       "HRV              0.925209\n",
       "Pressure         1.000000\n",
       "dtype: float64"
      ]
     },
     "execution_count": 8,
     "metadata": {},
     "output_type": "execute_result"
    }
   ],
   "source": [
    "y = pd.Series(df['Decision'])\n",
    "fields = list(df.columns[:-1])  # everything except \"color\"\n",
    "correlations = df[fields].corrwith(y)\n",
    "correlations.sort_values(inplace=True)\n",
    "correlations"
   ]
  },
  {
   "cell_type": "code",
   "execution_count": 9,
   "id": "b3d91216-7b1e-4d73-8a64-427238e756f4",
   "metadata": {},
   "outputs": [],
   "source": [
    "df = df.drop([\"Distance\",\"Pressure\",\"Sugar level\"],axis = 1)"
   ]
  },
  {
   "cell_type": "code",
   "execution_count": 10,
   "id": "32039caa-f2e8-404e-95fd-7f0fa7893da9",
   "metadata": {},
   "outputs": [
    {
     "data": {
      "text/html": [
       "<div>\n",
       "<style scoped>\n",
       "    .dataframe tbody tr th:only-of-type {\n",
       "        vertical-align: middle;\n",
       "    }\n",
       "\n",
       "    .dataframe tbody tr th {\n",
       "        vertical-align: top;\n",
       "    }\n",
       "\n",
       "    .dataframe thead th {\n",
       "        text-align: right;\n",
       "    }\n",
       "</style>\n",
       "<table border=\"1\" class=\"dataframe\">\n",
       "  <thead>\n",
       "    <tr style=\"text-align: right;\">\n",
       "      <th></th>\n",
       "      <th>HRV</th>\n",
       "      <th>SpO2</th>\n",
       "      <th>Accelerometer</th>\n",
       "      <th>Decision</th>\n",
       "    </tr>\n",
       "  </thead>\n",
       "  <tbody>\n",
       "    <tr>\n",
       "      <th>0</th>\n",
       "      <td>101.396</td>\n",
       "      <td>87.770</td>\n",
       "      <td>1</td>\n",
       "      <td>1</td>\n",
       "    </tr>\n",
       "    <tr>\n",
       "      <th>1</th>\n",
       "      <td>110.190</td>\n",
       "      <td>65.190</td>\n",
       "      <td>1</td>\n",
       "      <td>2</td>\n",
       "    </tr>\n",
       "    <tr>\n",
       "      <th>2</th>\n",
       "      <td>87.412</td>\n",
       "      <td>99.345</td>\n",
       "      <td>0</td>\n",
       "      <td>0</td>\n",
       "    </tr>\n",
       "    <tr>\n",
       "      <th>3</th>\n",
       "      <td>92.266</td>\n",
       "      <td>81.545</td>\n",
       "      <td>1</td>\n",
       "      <td>1</td>\n",
       "    </tr>\n",
       "    <tr>\n",
       "      <th>4</th>\n",
       "      <td>89.480</td>\n",
       "      <td>99.990</td>\n",
       "      <td>0</td>\n",
       "      <td>0</td>\n",
       "    </tr>\n",
       "    <tr>\n",
       "      <th>5</th>\n",
       "      <td>102.584</td>\n",
       "      <td>88.580</td>\n",
       "      <td>1</td>\n",
       "      <td>1</td>\n",
       "    </tr>\n",
       "    <tr>\n",
       "      <th>6</th>\n",
       "      <td>70.824</td>\n",
       "      <td>93.690</td>\n",
       "      <td>0</td>\n",
       "      <td>0</td>\n",
       "    </tr>\n",
       "    <tr>\n",
       "      <th>7</th>\n",
       "      <td>84.816</td>\n",
       "      <td>98.460</td>\n",
       "      <td>0</td>\n",
       "      <td>0</td>\n",
       "    </tr>\n",
       "    <tr>\n",
       "      <th>8</th>\n",
       "      <td>75.752</td>\n",
       "      <td>95.370</td>\n",
       "      <td>0</td>\n",
       "      <td>0</td>\n",
       "    </tr>\n",
       "    <tr>\n",
       "      <th>9</th>\n",
       "      <td>99.658</td>\n",
       "      <td>86.585</td>\n",
       "      <td>1</td>\n",
       "      <td>1</td>\n",
       "    </tr>\n",
       "  </tbody>\n",
       "</table>\n",
       "</div>"
      ],
      "text/plain": [
       "       HRV    SpO2  Accelerometer  Decision\n",
       "0  101.396  87.770              1         1\n",
       "1  110.190  65.190              1         2\n",
       "2   87.412  99.345              0         0\n",
       "3   92.266  81.545              1         1\n",
       "4   89.480  99.990              0         0\n",
       "5  102.584  88.580              1         1\n",
       "6   70.824  93.690              0         0\n",
       "7   84.816  98.460              0         0\n",
       "8   75.752  95.370              0         0\n",
       "9   99.658  86.585              1         1"
      ]
     },
     "execution_count": 10,
     "metadata": {},
     "output_type": "execute_result"
    }
   ],
   "source": [
    "df.head(10)"
   ]
  },
  {
   "cell_type": "code",
   "execution_count": 11,
   "id": "c0fa7468-df49-4ab8-94cd-de4869f95cab",
   "metadata": {},
   "outputs": [
    {
     "name": "stdout",
     "output_type": "stream",
     "text": [
      "          HRV    SpO2  Accelerometer\n",
      "0     101.396  87.770              1\n",
      "1     110.190  65.190              1\n",
      "2      87.412  99.345              0\n",
      "3      92.266  81.545              1\n",
      "4      89.480  99.990              0\n",
      "...       ...     ...            ...\n",
      "2034  116.310  71.310              1\n",
      "2035  124.320  79.320              1\n",
      "2036   93.828  82.610              1\n",
      "2037  123.240  78.240              1\n",
      "2038   78.876  96.435              0\n",
      "\n",
      "[2039 rows x 3 columns]\n",
      "      HRV_scaled  SpO2_scaled  Accelerometer_scaled\n",
      "0       0.326595     0.378648              0.715185\n",
      "1       0.827045    -1.653962              0.715185\n",
      "2      -0.469207     1.420609             -1.398239\n",
      "3      -0.192976    -0.181715              0.715185\n",
      "4      -0.351522     1.478670             -1.398239\n",
      "...          ...          ...                   ...\n",
      "2034    1.175323    -1.103051              0.715185\n",
      "2035    1.631157    -0.382006              0.715185\n",
      "2036   -0.104085    -0.085846              0.715185\n",
      "2037    1.569696    -0.479225              0.715185\n",
      "2038   -0.954975     1.158656             -1.398239\n",
      "\n",
      "[2039 rows x 3 columns]\n"
     ]
    }
   ],
   "source": [
    "from sklearn.preprocessing import StandardScaler\n",
    "fields = ['HRV','SpO2','Accelerometer']\n",
    "x_df = df.loc[:,fields]\n",
    "print(x_df)\n",
    "scaler = StandardScaler()\n",
    "x_scaled = scaler.fit_transform(x_df)\n",
    "x_scaled = pd.DataFrame(x_scaled, columns=['%s_scaled' % fld for fld in fields])\n",
    "print(x_scaled)"
   ]
  },
  {
   "cell_type": "code",
   "execution_count": 12,
   "id": "b590488f-6c3b-432e-816e-9288c6b02953",
   "metadata": {},
   "outputs": [
    {
     "data": {
      "text/html": [
       "<div>\n",
       "<style scoped>\n",
       "    .dataframe tbody tr th:only-of-type {\n",
       "        vertical-align: middle;\n",
       "    }\n",
       "\n",
       "    .dataframe tbody tr th {\n",
       "        vertical-align: top;\n",
       "    }\n",
       "\n",
       "    .dataframe thead th {\n",
       "        text-align: right;\n",
       "    }\n",
       "</style>\n",
       "<table border=\"1\" class=\"dataframe\">\n",
       "  <thead>\n",
       "    <tr style=\"text-align: right;\">\n",
       "      <th></th>\n",
       "      <th>HRV_scaled</th>\n",
       "      <th>SpO2_scaled</th>\n",
       "      <th>Accelerometer_scaled</th>\n",
       "    </tr>\n",
       "  </thead>\n",
       "  <tbody>\n",
       "    <tr>\n",
       "      <th>count</th>\n",
       "      <td>2.039000e+03</td>\n",
       "      <td>2.039000e+03</td>\n",
       "      <td>2.039000e+03</td>\n",
       "    </tr>\n",
       "    <tr>\n",
       "      <th>mean</th>\n",
       "      <td>1.707533e-16</td>\n",
       "      <td>-2.639706e-16</td>\n",
       "      <td>-5.314260e-17</td>\n",
       "    </tr>\n",
       "    <tr>\n",
       "      <th>std</th>\n",
       "      <td>1.000245e+00</td>\n",
       "      <td>1.000245e+00</td>\n",
       "      <td>1.000245e+00</td>\n",
       "    </tr>\n",
       "    <tr>\n",
       "      <th>min</th>\n",
       "      <td>-2.029173e+00</td>\n",
       "      <td>-2.121157e+00</td>\n",
       "      <td>-1.398239e+00</td>\n",
       "    </tr>\n",
       "    <tr>\n",
       "      <th>25%</th>\n",
       "      <td>-7.534066e-01</td>\n",
       "      <td>-7.452289e-01</td>\n",
       "      <td>-1.398239e+00</td>\n",
       "    </tr>\n",
       "    <tr>\n",
       "      <th>50%</th>\n",
       "      <td>8.997158e-02</td>\n",
       "      <td>1.545028e-01</td>\n",
       "      <td>7.151853e-01</td>\n",
       "    </tr>\n",
       "    <tr>\n",
       "      <th>75%</th>\n",
       "      <td>7.988759e-01</td>\n",
       "      <td>8.217626e-01</td>\n",
       "      <td>7.151853e-01</td>\n",
       "    </tr>\n",
       "    <tr>\n",
       "      <th>max</th>\n",
       "      <td>1.668716e+00</td>\n",
       "      <td>1.478670e+00</td>\n",
       "      <td>7.151853e-01</td>\n",
       "    </tr>\n",
       "  </tbody>\n",
       "</table>\n",
       "</div>"
      ],
      "text/plain": [
       "         HRV_scaled   SpO2_scaled  Accelerometer_scaled\n",
       "count  2.039000e+03  2.039000e+03          2.039000e+03\n",
       "mean   1.707533e-16 -2.639706e-16         -5.314260e-17\n",
       "std    1.000245e+00  1.000245e+00          1.000245e+00\n",
       "min   -2.029173e+00 -2.121157e+00         -1.398239e+00\n",
       "25%   -7.534066e-01 -7.452289e-01         -1.398239e+00\n",
       "50%    8.997158e-02  1.545028e-01          7.151853e-01\n",
       "75%    7.988759e-01  8.217626e-01          7.151853e-01\n",
       "max    1.668716e+00  1.478670e+00          7.151853e-01"
      ]
     },
     "execution_count": 12,
     "metadata": {},
     "output_type": "execute_result"
    }
   ],
   "source": [
    "x_scaled.describe()"
   ]
  },
  {
   "cell_type": "code",
   "execution_count": 13,
   "id": "33d0251a-2d75-40ab-9efc-6bfd46bcbebe",
   "metadata": {},
   "outputs": [],
   "source": [
    "x_scaled = np.array(x_scaled)\n",
    "y= np.array(y)"
   ]
  },
  {
   "cell_type": "code",
   "execution_count": 14,
   "id": "53e65682-0725-4a1d-abfc-ee9b91007133",
   "metadata": {},
   "outputs": [],
   "source": [
    "from sklearn.model_selection import StratifiedShuffleSplit\n",
    "sss = StratifiedShuffleSplit(n_splits=1, test_size=0.2, random_state=42)\n",
    "for train_idx, test_idx in sss.split(x_scaled, y):\n",
    "    x_train, x_test = x_scaled[train_idx], x_scaled[test_idx]\n",
    "    y_train, y_test = y[train_idx], y[test_idx]"
   ]
  },
  {
   "cell_type": "code",
   "execution_count": 15,
   "id": "c41a9262-c16c-4b08-9dd8-57454b690dbe",
   "metadata": {},
   "outputs": [
    {
     "data": {
      "text/plain": [
       "0\n",
       "0    0.338443\n",
       "1    0.334151\n",
       "2    0.327406\n",
       "Name: proportion, dtype: float64"
      ]
     },
     "execution_count": 15,
     "metadata": {},
     "output_type": "execute_result"
    }
   ],
   "source": [
    "pd.DataFrame(y_train).value_counts(normalize=True)"
   ]
  },
  {
   "cell_type": "code",
   "execution_count": 16,
   "id": "f3836f96-3a15-40e3-a615-42969ac0d56c",
   "metadata": {},
   "outputs": [
    {
     "data": {
      "text/plain": [
       "0\n",
       "0    0.338235\n",
       "1    0.335784\n",
       "2    0.325980\n",
       "Name: proportion, dtype: float64"
      ]
     },
     "execution_count": 16,
     "metadata": {},
     "output_type": "execute_result"
    }
   ],
   "source": [
    "pd.DataFrame(y_test).value_counts(normalize=True)"
   ]
  },
  {
   "cell_type": "code",
   "execution_count": 17,
   "id": "a4b78d30-a5eb-402d-814a-08754ef7923f",
   "metadata": {},
   "outputs": [
    {
     "name": "stdout",
     "output_type": "stream",
     "text": [
      "Fitting 5 folds for each of 72 candidates, totalling 360 fits\n",
      "Best parameters: {'C': 0.1, 'gamma': 0.01, 'kernel': 'rbf'}\n"
     ]
    }
   ],
   "source": [
    "from sklearn.model_selection import GridSearchCV\n",
    "from sklearn.svm import SVC\n",
    "\n",
    "param_grid = {\n",
    "    'C': [0.1, 1, 10, 100],\n",
    "    'gamma': [ 0.01, 0.1, 0.5 , 1 , 2 , 10 ],\n",
    "    'kernel': ['rbf', 'poly', 'linear']\n",
    "}\n",
    "\n",
    "grid_search = GridSearchCV(SVC(), param_grid, cv=5, scoring='accuracy', verbose=2, n_jobs=-1)\n",
    "grid_search.fit(x_train, y_train)\n",
    "\n",
    "best_svm = grid_search.best_estimator_\n",
    "print(\"Best parameters:\", grid_search.best_params_)\n"
   ]
  },
  {
   "cell_type": "code",
   "execution_count": 18,
   "id": "ce0e6ae9-e3e0-46be-8fcc-e5a327ff665b",
   "metadata": {},
   "outputs": [
    {
     "data": {
      "text/plain": [
       "array([[ 0.88167716, -1.56754501,  0.71518529],\n",
       "       [ 0.99094072, -1.3947101 ,  0.71518529],\n",
       "       [-0.381569  ,  1.46786808, -1.39823906],\n",
       "       ...,\n",
       "       [-0.90239199,  1.18701136, -1.39823906],\n",
       "       [-1.77376892,  0.71711645, -1.39823906],\n",
       "       [-0.68955567,  1.30178454, -1.39823906]])"
      ]
     },
     "execution_count": 18,
     "metadata": {},
     "output_type": "execute_result"
    }
   ],
   "source": [
    "x_test"
   ]
  },
  {
   "cell_type": "code",
   "execution_count": 19,
   "id": "7bb415e9-9947-4e73-8e73-2152c533020f",
   "metadata": {},
   "outputs": [
    {
     "name": "stdout",
     "output_type": "stream",
     "text": [
      "[[138   0   0]\n",
      " [  0 137   0]\n",
      " [  0   0 133]]\n",
      "              precision    recall  f1-score   support\n",
      "\n",
      "           0       1.00      1.00      1.00       138\n",
      "           1       1.00      1.00      1.00       137\n",
      "           2       1.00      1.00      1.00       133\n",
      "\n",
      "    accuracy                           1.00       408\n",
      "   macro avg       1.00      1.00      1.00       408\n",
      "weighted avg       1.00      1.00      1.00       408\n",
      "\n"
     ]
    }
   ],
   "source": [
    "from sklearn.metrics import classification_report, confusion_matrix\n",
    "\n",
    "y_pred = best_svm.predict(x_test)\n",
    "\n",
    "print(confusion_matrix(y_test, y_pred))\n",
    "print(classification_report(y_test, y_pred))"
   ]
  },
  {
   "cell_type": "code",
   "execution_count": 21,
   "id": "38c27804-52d7-423b-b5a6-d6a7bb4e5cc4",
   "metadata": {},
   "outputs": [
    {
     "name": "stdout",
     "output_type": "stream",
     "text": [
      "Predicted Class: 0\n",
      "Sample 0: f_0_1 = 2.2199562541820095, f_0_2 = 1.191203950077629, f_1_2 = -1.0287523041043805\n"
     ]
    },
    {
     "name": "stderr",
     "output_type": "stream",
     "text": [
      "C:\\Users\\USER\\AppData\\Local\\Programs\\Python\\Python310\\lib\\site-packages\\sklearn\\base.py:493: UserWarning: X does not have valid feature names, but StandardScaler was fitted with feature names\n",
      "  warnings.warn(\n"
     ]
    }
   ],
   "source": [
    "new_input = np.array([[87.412, 99.345, 0]])  # Example values (raw sensor readings)\n",
    "\n",
    "# Apply the same scaling\n",
    "new_input_scaled = scaler.transform(new_input)\n",
    "\n",
    "# Make prediction\n",
    "predicted_class = best_svm.predict(new_input_scaled)\n",
    "\n",
    "print(\"Predicted Class:\", predicted_class[0])\n",
    "\n",
    "decision_values = best_svm.decision_function(new_input_scaled)\n",
    "\n",
    "# Print decision values for each sample\n",
    "for i, values in enumerate(decision_values):\n",
    "    print(f\"Sample {i}: f_0_1 = {values[0]}, f_0_2 = {values[1]}, f_1_2 = {values[1] - values[0]}\")\n"
   ]
  },
  {
   "cell_type": "code",
   "execution_count": 22,
   "id": "5c15d737-71f5-46cb-986c-3cb648e57bca",
   "metadata": {},
   "outputs": [
    {
     "name": "stdout",
     "output_type": "stream",
     "text": [
      "Support Vectors:\n",
      " [[-0.70708337  1.29233263 -1.39823906]\n",
      " [-0.6995715   1.29638345 -1.39823906]\n",
      " [-0.37906504  1.46921836 -1.39823906]\n",
      " ...\n",
      " [ 1.38360666 -0.77358465  0.71518529]\n",
      " [ 1.02508559 -1.34069919  0.71518529]\n",
      " [ 1.41433704 -0.72497483  0.71518529]]\n",
      "Support Vectors:\n",
      " [163 369 368]\n",
      "Dual Coefficients:\n",
      " [[ 0.1  0.1  0.1 ... -0.  -0.  -0. ]\n",
      " [ 0.   0.   0.1 ... -0.1 -0.1 -0.1]]\n",
      "Intercepts:\n",
      " [-0.01684231 -0.00373844  0.0777058 ]\n",
      "Gamma: 0.01\n"
     ]
    }
   ],
   "source": [
    "import numpy as np\n",
    "\n",
    "# Get support vectors\n",
    "support_vectors = best_svm.support_vectors_\n",
    "n_support_per_class = best_svm.n_support_  \n",
    "\n",
    "# Get dual coefficients (weights assigned to support vectors)\n",
    "dual_coef = best_svm.dual_coef_\n",
    "\n",
    "# Get intercepts (bias terms for each decision function)\n",
    "intercepts = best_svm.intercept_\n",
    "\n",
    "# Get gamma value used in the RBF kernel\n",
    "gamma = best_svm._gamma  # Or use svm_model.gamma if defined manually\n",
    "\n",
    "print(\"Support Vectors:\\n\", support_vectors)\n",
    "print(\"Support Vectors:\\n\", n_support_per_class)\n",
    "\n",
    "print(\"Dual Coefficients:\\n\", dual_coef)\n",
    "print(\"Intercepts:\\n\", intercepts)\n",
    "print(\"Gamma:\", gamma)\n"
   ]
  },
  {
   "cell_type": "code",
   "execution_count": 23,
   "id": "bcf84acf-7ee4-4fc8-b46e-f283445c33fe",
   "metadata": {},
   "outputs": [
    {
     "name": "stdout",
     "output_type": "stream",
     "text": [
      "Support Vectors for 0 vs 1:\n",
      " [[-0.70708337  1.29233263 -1.39823906]\n",
      " [-0.6995715   1.29638345 -1.39823906]\n",
      " [-0.37906504  1.46921836 -1.39823906]\n",
      " ...\n",
      " [-0.31441743 -0.31269155  0.71518529]\n",
      " [ 0.4179899   0.47721799  0.71518529]\n",
      " [-0.2468106  -0.23977683  0.71518529]]\n",
      "Support Vectors for 0 vs 2:\n",
      " [[-0.70708337  1.29233263 -1.39823906]\n",
      " [-0.6995715   1.29638345 -1.39823906]\n",
      " [-0.37906504  1.46921836 -1.39823906]\n",
      " ...\n",
      " [ 1.38360666 -0.77358465  0.71518529]\n",
      " [ 1.02508559 -1.34069919  0.71518529]\n",
      " [ 1.41433704 -0.72497483  0.71518529]]\n",
      "Support Vectors for 1 vs 2:\n",
      " [[ 0.4530453   0.51502563  0.71518529]\n",
      " [-0.32067732 -0.31944292  0.71518529]\n",
      " [ 0.3316034   0.38404917  0.71518529]\n",
      " ...\n",
      " [ 1.38360666 -0.77358465  0.71518529]\n",
      " [ 1.02508559 -1.34069919  0.71518529]\n",
      " [ 1.41433704 -0.72497483  0.71518529]]\n"
     ]
    }
   ],
   "source": [
    "# Extract support vectors per class\n",
    "start_0 = 0\n",
    "end_0 = n_support_per_class[0]  # Class 0\n",
    "start_1 = end_0\n",
    "end_1 = start_1 + n_support_per_class[1]  # Class 1\n",
    "start_2 = end_1\n",
    "end_2 = start_2 + n_support_per_class[2]  # Class 2\n",
    "\n",
    "support_0 = support_vectors[start_0:end_0]\n",
    "support_1 = support_vectors[start_1:end_1]\n",
    "support_2 = support_vectors[start_2:end_2]\n",
    "\n",
    "# Extract support vectors for each binary classifier\n",
    "support_01 = np.vstack((support_0, support_1))\n",
    "support_02 = np.vstack((support_0, support_2))\n",
    "support_12 = np.vstack((support_1, support_2))\n",
    "\n",
    "print(\"Support Vectors for 0 vs 1:\\n\", support_01)\n",
    "print(\"Support Vectors for 0 vs 2:\\n\", support_02)\n",
    "print(\"Support Vectors for 1 vs 2:\\n\", support_12)\n",
    "\n",
    "lst = [support_01,support_02,support_12]"
   ]
  },
  {
   "cell_type": "code",
   "execution_count": 24,
   "id": "2b1ce411-f39b-4d8c-8a77-8dd73a4c2698",
   "metadata": {},
   "outputs": [
    {
     "data": {
      "text/plain": [
       "737"
      ]
     },
     "execution_count": 24,
     "metadata": {},
     "output_type": "execute_result"
    }
   ],
   "source": [
    "len(support_12)"
   ]
  },
  {
   "cell_type": "code",
   "execution_count": 25,
   "id": "c31d266b-57a6-43fd-b6f7-c6ca6096c0ba",
   "metadata": {},
   "outputs": [
    {
     "data": {
      "text/plain": [
       "900"
      ]
     },
     "execution_count": 25,
     "metadata": {},
     "output_type": "execute_result"
    }
   ],
   "source": [
    "len(support_vectors)"
   ]
  },
  {
   "cell_type": "code",
   "execution_count": 26,
   "id": "fa277e3a-ac2b-46a1-9ca6-210fb670ba48",
   "metadata": {},
   "outputs": [
    {
     "name": "stdout",
     "output_type": "stream",
     "text": [
      "HELLO WORLD\n",
      "900\n",
      "f_0(x) = (0.1) * exp((-0.01) *(pow((-0.7070833663376833 - x),2)+ pow((1.292332629909343 - y),2)+ pow((-1.3982390581614135 - z),2))) + (0.1) * exp((-0.01) *(pow((-0.6995714962422224 - x),2)+ pow((1.2963834480962253 - y),2)+ pow((-1.3982390581614135 - z),2))) + (0.1) * exp((-0.01) *(pow((-0.379065038835903 - x),2)+ pow((1.4692183574032052 - y),2)+ pow((-1.3982390581614135 - z),2))) + (0.1) * exp((-0.01) *(pow((-0.32397799146919154 - x),2)+ pow((1.4786702665059295 - y),2)+ pow((-1.3982390581614135 - z),2))) + (0.1) * exp((-0.01) *(pow((-0.6695240158603804 - x),2)+ pow((1.312586720843754 - y),2)+ pow((-1.3982390581614135 - z),2))) + (0.1) * exp((-0.01) *(pow((-0.7421387601164996 - x),2)+ pow((1.2734288117038912 - y),2)+ pow((-1.3982390581614135 - z),2))) + (0.1) * exp((-0.01) *(pow((-0.7922178940862368 - x),2)+ pow((1.2464233571246761 - y),2)+ pow((-1.3982390581614135 - z),2))) + (0.1) * exp((-0.01) *(pow((-0.5793815747148527 - x),2)+ pow((1.3611965390863425 - y),2)+ pow((-1.3982390581614135 - z),2))) + (0.1) * exp((-0.01) *(pow((-0.42163230271017926 - x),2)+ pow((1.446263721010871 - y),2)+ pow((-1.3982390581614135 - z),2))) + (0.1) * exp((-0.01) *(pow((-0.6845477560513014 - x),2)+ pow((1.3044850844699905 - y),2)+ pow((-1.3982390581614135 - z),2))) + (0.1) * exp((-0.01) *(pow((-0.7646743704028814 - x),2)+ pow((1.261276357143245 - y),2)+ pow((-1.3982390581614135 - z),2))) + (0.1) * exp((-0.01) *(pow((-0.7145952364331443 - x),2)+ pow((1.2882818117224604 - y),2)+ pow((-1.3982390581614135 - z),2))) + (0.1) * exp((-0.01) *(pow((-0.356529428549521 - x),2)+ pow((1.4786702665059295 - y),2)+ pow((-1.3982390581614135 - z),2))) + (0.1) * exp((-0.01) *(pow((-0.6069250983982081 - x),2)+ pow((1.3463435390677736 - y),2)+ pow((-1.3982390581614135 - z),2))) + (0.1) * exp((-0.01) *(pow((-0.5969092716042604 - x),2)+ pow((1.3517446299836169 - y),2)+ pow((-1.3982390581614135 - z),2))) + (0.1) * exp((-0.01) *(pow((-0.8047376775786711 - x),2)+ pow((1.239671993479872 - y),2)+ pow((-1.3982390581614135 - z),2))) + (0.1) * exp((-0.01) *(pow((-0.7571625003074206 - x),2)+ pow((1.2653271753301276 - y),2)+ pow((-1.3982390581614135 - z),2))) + (0.1) * exp((-0.01) *(pow((-0.3264819481676782 - x),2)+ pow((1.4786702665059295 - y),2)+ pow((-1.3982390581614135 - z),2))) + (0.1) * exp((-0.01) *(pow((-0.39909669242379736 - x),2)+ pow((1.4584161755715184 - y),2)+ pow((-1.3982390581614135 - z),2))) + (0.1) * exp((-0.01) *(pow((-0.7897139373877501 - x),2)+ pow((1.2477736298536368 - y),2)+ pow((-1.3982390581614135 - z),2))) + (0.1) * exp((-0.01) *(pow((-0.7771941538953158 - x),2)+ pow((1.254524993498441 - y),2)+ pow((-1.3982390581614135 - z),2))) + (0.1) * exp((-0.01) *(pow((-0.7997297641816977 - x),2)+ pow((1.2423725389377935 - y),2)+ pow((-1.3982390581614135 - z),2))) + (0.1) * exp((-0.01) *(pow((-0.39158482232833725 - x),2)+ pow((1.462466993758401 - y),2)+ pow((-1.3982390581614135 - z),2))) + (0.1) * exp((-0.01) *(pow((-0.6469884055739985 - x),2)+ pow((1.3247391754044016 - y),2)+ pow((-1.3982390581614135 - z),2))) + (0.1) * exp((-0.01) *(pow((-0.42664021610715347 - x),2)+ pow((1.4435631755529492 - y),2)+ pow((-1.3982390581614135 - z),2))) + (0.1) * exp((-0.01) *(pow((-0.7446427168149863 - x),2)+ pow((1.2720785389749305 - y),2)+ pow((-1.3982390581614135 - z),2))) + (0.1) * exp((-0.01) *(pow((-0.5919013582072871 - x),2)+ pow((1.3544451754415385 - y),2)+ pow((-1.3982390581614135 - z),2))) + (0.1) * exp((-0.01) *(pow((-0.724611063227091 - x),2)+ pow((1.282880720806617 - y),2)+ pow((-1.3982390581614135 - z),2))) + (0.1) * exp((-0.01) *(pow((-0.747146673513473 - x),2)+ pow((1.270728266245971 - y),2)+ pow((-1.3982390581614135 - z),2))) + (0.1) * exp((-0.01) *(pow((-0.40660856251925825 - x),2)+ pow((1.454365357384636 - y),2)+ pow((-1.3982390581614135 - z),2))) + (0.1) * exp((-0.01) *(pow((-0.5668617912224184 - x),2)+ pow((1.3679479027311467 - y),2)+ pow((-1.3982390581614135 - z),2))) + (0.1) * exp((-0.01) *(pow((-0.5693657479209051 - x),2)+ pow((1.3665976300021858 - y),2)+ pow((-1.3982390581614135 - z),2))) + (0.1) * exp((-0.01) *(pow((-0.49925496036327266 - x),2)+ pow((1.404405266413088 - y),2)+ pow((-1.3982390581614135 - z),2))) + (0.1) * exp((-0.01) *(pow((-0.5568459644284708 - x),2)+ pow((1.3733489936469887 - y),2)+ pow((-1.3982390581614135 - z),2))) + (0.1) * exp((-0.01) *(pow((-0.6745319292573538 - x),2)+ pow((1.3098861753858324 - y),2)+ pow((-1.3982390581614135 - z),2))) + (0.1) * exp((-0.01) *(pow((-0.7521545869104471 - x),2)+ pow((1.2680277207880493 - y),2)+ pow((-1.3982390581614135 - z),2))) + (0.1) * exp((-0.01) *(pow((-0.4692074799814298 - x),2)+ pow((1.4206085391606165 - y),2)+ pow((-1.3982390581614135 - z),2))) + (0.1) * exp((-0.01) *(pow((-0.694563582845249 - x),2)+ pow((1.299083993554147 - y),2)+ pow((-1.3982390581614135 - z),2))) + (0.1) * exp((-0.01) *(pow((-0.34150568835859924 - x),2)+ pow((1.4786702665059295 - y),2)+ pow((-1.3982390581614135 - z),2))) + (0.1) * exp((-0.01) *(pow((-0.7872099806892634 - x),2)+ pow((1.2491239025825978 - y),2)+ pow((-1.3982390581614135 - z),2))) + (0.1) * exp((-0.01) *(pow((-0.7796981105938025 - x),2)+ pow((1.25317472076948 - y),2)+ pow((-1.3982390581614135 - z),2))) + (0.1) * exp((-0.01) *(pow((-0.6770358859558405 - x),2)+ pow((1.3085359026568715 - y),2)+ pow((-1.3982390581614135 - z),2))) + (0.1) * exp((-0.01) *(pow((-0.5818855314133394 - x),2)+ pow((1.3598462663573818 - y),2)+ pow((-1.3982390581614135 - z),2))) + (0.1) * exp((-0.01) *(pow((-0.6144369684936689 - x),2)+ pow((1.342292720880891 - y),2)+ pow((-1.3982390581614135 - z),2))) + (0.1) * exp((-0.01) *(pow((-0.4541837397905088 - x),2)+ pow((1.4287101755343814 - y),2)+ pow((-1.3982390581614135 - z),2))) + (0.1) * exp((-0.01) *(pow((-0.6820437993528147 - x),2)+ pow((1.3058353571989498 - y),2)+ pow((-1.3982390581614135 - z),2))) + (0.1) * exp((-0.01) *(pow((-0.6920596261467623 - x),2)+ pow((1.3004342662831079 - y),2)+ pow((-1.3982390581614135 - z),2))) + (0.1) * exp((-0.01) *(pow((-0.7621704137043948 - x),2)+ pow((1.262626629872206 - y),2)+ pow((-1.3982390581614135 - z),2))) + (0.1) * exp((-0.01) *(pow((-0.6194448818906424 - x),2)+ pow((1.3395921754229694 - y),2)+ pow((-1.3982390581614135 - z),2))) + (0.1) * exp((-0.01) *(pow((-0.4116164759162317 - x),2)+ pow((1.4516648119267144 - y),2)+ pow((-1.3982390581614135 - z),2))) + (0.1) * exp((-0.01) *(pow((-0.6369725787800509 - x),2)+ pow((1.3301402663202448 - y),2)+ pow((-1.3982390581614135 - z),2))) + (0.1) * exp((-0.01) *(pow((-0.7196031498301176 - x),2)+ pow((1.2855812662645387 - y),2)+ pow((-1.3982390581614135 - z),2))) + (0.1) * exp((-0.01) *(pow((-0.3339938182631391 - x),2)+ pow((1.4786702665059295 - y),2)+ pow((-1.3982390581614135 - z),2))) + (0.1) * exp((-0.01) *(pow((-0.732122933322552 - x),2)+ pow((1.2788299026197347 - y),2)+ pow((-1.3982390581614135 - z),2))) + (0.1) * exp((-0.01) *(pow((-0.657004232367946 - x),2)+ pow((1.3193380844885583 - y),2)+ pow((-1.3982390581614135 - z),2))) + (0.1) * exp((-0.01) *(pow((-0.4241362594086668 - x),2)+ pow((1.4449134482819102 - y),2)+ pow((-1.3982390581614135 - z),2))) + (0.1) * exp((-0.01) *(pow((-0.797225807483211 - x),2)+ pow((1.2437228116667542 - y),2)+ pow((-1.3982390581614135 - z),2))) + (0.1) * exp((-0.01) *(pow((-0.35402547185103356 - x),2)+ pow((1.4786702665059295 - y),2)+ pow((-1.3982390581614135 - z),2))) + (0.1) * exp((-0.01) *(pow((-0.7671783271013681 - x),2)+ pow((1.2599260844142843 - y),2)+ pow((-1.3982390581614135 - z),2))) + (0.1) * exp((-0.01) *(pow((-0.4316481295041269 - x),2)+ pow((1.4408626300950276 - y),2)+ pow((-1.3982390581614135 - z),2))) + (0.1) * exp((-0.01) *(pow((-0.474215393378404 - x),2)+ pow((1.4179079937026948 - y),2)+ pow((-1.3982390581614135 - z),2))) + (0.1) * exp((-0.01) *(pow((-0.4667035232829431 - x),2)+ pow((1.4219588118895774 - y),2)+ pow((-1.3982390581614135 - z),2))) + (0.1) * exp((-0.01) *(pow((-0.7496506302119604 - x),2)+ pow((1.2693779935170102 - y),2)+ pow((-1.3982390581614135 - z),2))) + (0.1) * exp((-0.01) *(pow((-0.5092707871572203 - x),2)+ pow((1.3990041754972444 - y),2)+ pow((-1.3982390581614135 - z),2))) + (0.1) * exp((-0.01) *(pow((-0.32397799146919154 - x),2)+ pow((1.4786702665059295 - y),2)+ pow((-1.3982390581614135 - z),2))) + (0.1) * exp((-0.01) *(pow((-0.34400964505708675 - x),2)+ pow((1.4786702665059295 - y),2)+ pow((-1.3982390581614135 - z),2))) + (0.1) * exp((-0.01) *(pow((-0.46169560988596975 - x),2)+ pow((1.424659357347499 - y),2)+ pow((-1.3982390581614135 - z),2))) + (0.1) * exp((-0.01) *(pow((-0.5468301376345232 - x),2)+ pow((1.378750084562832 - y),2)+ pow((-1.3982390581614135 - z),2))) + (0.1) * exp((-0.01) *(pow((-0.6419804921770242 - x),2)+ pow((1.3274397208623232 - y),2)+ pow((-1.3982390581614135 - z),2))) + (0.1) * exp((-0.01) *(pow((-0.8022337208801844 - x),2)+ pow((1.2410222662088326 - y),2)+ pow((-1.3982390581614135 - z),2))) + (0.1) * exp((-0.01) *(pow((-0.511774743855707 - x),2)+ pow((1.3976539027682837 - y),2)+ pow((-1.3982390581614135 - z),2))) + (0.1) * exp((-0.01) *(pow((-0.4191283460116926 - x),2)+ pow((1.4476139937398318 - y),2)+ pow((-1.3982390581614135 - z),2))) + (0.1) * exp((-0.01) *(pow((-0.4466718696950479 - x),2)+ pow((1.432760993721264 - y),2)+ pow((-1.3982390581614135 - z),2))) + (0.1) * exp((-0.01) *(pow((-0.3965927357253107 - x),2)+ pow((1.4597664483004793 - y),2)+ pow((-1.3982390581614135 - z),2))) + (0.1) * exp((-0.01) *(pow((-0.38908086562985056 - x),2)+ pow((1.4638172664873617 - y),2)+ pow((-1.3982390581614135 - z),2))) + (0.1) * exp((-0.01) *(pow((-0.32397799146919154 - x),2)+ pow((1.4786702665059295 - y),2)+ pow((-1.3982390581614135 - z),2))) + (0.1) * exp((-0.01) *(pow((-0.4366560429011011 - x),2)+ pow((1.4381620846371073 - y),2)+ pow((-1.3982390581614135 - z),2))) + (0.1) * exp((-0.01) *(pow((-0.6169409251921556 - x),2)+ pow((1.34094244815193 - y),2)+ pow((-1.3982390581614135 - z),2))) + (0.1) * exp((-0.01) *(pow((-0.35903338524800776 - x),2)+ pow((1.4786702665059295 - y),2)+ pow((-1.3982390581614135 - z),2))) + (0.1) * exp((-0.01) *(pow((-0.4341520862026136 - x),2)+ pow((1.4395123573660682 - y),2)+ pow((-1.3982390581614135 - z),2))) + (0.1) * exp((-0.01) *(pow((-0.45668769648899554 - x),2)+ pow((1.4273599028054207 - y),2)+ pow((-1.3982390581614135 - z),2))) + (0.1) * exp((-0.01) *(pow((-0.6519963189709719 - x),2)+ pow((1.32203862994648 - y),2)+ pow((-1.3982390581614135 - z),2))) + (0.1) * exp((-0.01) *(pow((-0.8072416342771586 - x),2)+ pow((1.238321720750911 - y),2)+ pow((-1.3982390581614135 - z),2))) + (0.1) * exp((-0.01) *(pow((-0.3289859048661649 - x),2)+ pow((1.4786702665059295 - y),2)+ pow((-1.3982390581614135 - z),2))) + (0.1) * exp((-0.01) *(pow((-0.5843894881118261 - x),2)+ pow((1.3584959936284209 - y),2)+ pow((-1.3982390581614135 - z),2))) + (0.1) * exp((-0.01) *(pow((-0.459191653187483 - x),2)+ pow((1.4260096300764598 - y),2)+ pow((-1.3982390581614135 - z),2))) + (0.1) * exp((-0.01) *(pow((-0.6294607086845899 - x),2)+ pow((1.3341910845071274 - y),2)+ pow((-1.3982390581614135 - z),2))) + (0.1) * exp((-0.01) *(pow((-0.5543420077299841 - x),2)+ pow((1.3746992663759496 - y),2)+ pow((-1.3982390581614135 - z),2))) + (0.1) * exp((-0.01) *(pow((-0.6244527952876165 - x),2)+ pow((1.336891629965049 - y),2)+ pow((-1.3982390581614135 - z),2))) + (0.1) * exp((-0.01) *(pow((-0.32397799146919154 - x),2)+ pow((1.4786702665059295 - y),2)+ pow((-1.3982390581614135 - z),2))) + (0.1) * exp((-0.01) *(pow((-0.36904921204195534 - x),2)+ pow((1.4746194483190471 - y),2)+ pow((-1.3982390581614135 - z),2))) + (0.1) * exp((-0.01) *(pow((-0.6494923622724852 - x),2)+ pow((1.3233889026754406 - y),2)+ pow((-1.3982390581614135 - z),2))) + (0.1) * exp((-0.01) *(pow((-0.4391599995995878 - x),2)+ pow((1.4368118119081466 - y),2)+ pow((-1.3982390581614135 - z),2))) + (0.1) * exp((-0.01) *(pow((-0.5017589170617593 - x),2)+ pow((1.403054993684127 - y),2)+ pow((-1.3982390581614135 - z),2))) + (0.1) * exp((-0.01) *(pow((-0.3740571254389288 - x),2)+ pow((1.4719189028611268 - y),2)+ pow((-1.3982390581614135 - z),2))) + (0.1) * exp((-0.01) *(pow((-0.7822020672922891 - x),2)+ pow((1.2518244480405194 - y),2)+ pow((-1.3982390581614135 - z),2))) + (0.1) * exp((-0.01) *(pow((-0.5643578345239317 - x),2)+ pow((1.3692981754601077 - y),2)+ pow((-1.3982390581614135 - z),2))) + (0.1) * exp((-0.01) *(pow((-0.679539842654328 - x),2)+ pow((1.3071856299279108 - y),2)+ pow((-1.3982390581614135 - z),2))) + (0.1) * exp((-0.01) *(pow((-0.4491758263935354 - x),2)+ pow((1.431410720992303 - y),2)+ pow((-1.3982390581614135 - z),2))) + (0.1) * exp((-0.01) *(pow((-0.7746901971968291 - x),2)+ pow((1.2558752662274018 - y),2)+ pow((-1.3982390581614135 - z),2))) + (0.1) * exp((-0.01) *(pow((-0.6545002756694586 - x),2)+ pow((1.320688357217519 - y),2)+ pow((-1.3982390581614135 - z),2))) + (0.1) * exp((-0.01) *(pow((-0.8097455909756454 - x),2)+ pow((1.2369714480219516 - y),2)+ pow((-1.3982390581614135 - z),2))) + (0.1) * exp((-0.01) *(pow((-0.7020754529407099 - x),2)+ pow((1.2950331753672646 - y),2)+ pow((-1.3982390581614135 - z),2))) + (0.1) * exp((-0.01) *(pow((-0.7045794096391966 - x),2)+ pow((1.2936829026383037 - y),2)+ pow((-1.3982390581614135 - z),2))) + (0.1) * exp((-0.01) *(pow((-0.37155316874044203 - x),2)+ pow((1.4732691755900875 - y),2)+ pow((-1.3982390581614135 - z),2))) + (0.1) * exp((-0.01) *(pow((-0.5718697046193918 - x),2)+ pow((1.365247357273225 - y),2)+ pow((-1.3982390581614135 - z),2))) + (0.1) * exp((-0.01) *(pow((-0.7346268900210386 - x),2)+ pow((1.2774796298907738 - y),2)+ pow((-1.3982390581614135 - z),2))) + (0.1) * exp((-0.01) *(pow((-0.5368143108405756 - x),2)+ pow((1.3841511754786755 - y),2)+ pow((-1.3982390581614135 - z),2))) + (0.1) * exp((-0.01) *(pow((-0.5192866139511678 - x),2)+ pow((1.3936030845814011 - y),2)+ pow((-1.3982390581614135 - z),2))) + (0.1) * exp((-0.01) *(pow((-0.47922330677537744 - x),2)+ pow((1.4152074482447732 - y),2)+ pow((-1.3982390581614135 - z),2))) + (0.1) * exp((-0.01) *(pow((-0.7120912797346567 - x),2)+ pow((1.2896320844514213 - y),2)+ pow((-1.3982390581614135 - z),2))) + (0.1) * exp((-0.01) *(pow((-0.34651360175557344 - x),2)+ pow((1.4786702665059295 - y),2)+ pow((-1.3982390581614135 - z),2))) + (0.1) * exp((-0.01) *(pow((-0.6119330117951822 - x),2)+ pow((1.3436429936098517 - y),2)+ pow((-1.3982390581614135 - z),2))) + (0.1) * exp((-0.01) *(pow((-0.6620121457649195 - x),2)+ pow((1.3166375390306366 - y),2)+ pow((-1.3982390581614135 - z),2))) + (0.1) * exp((-0.01) *(pow((-0.32397799146919154 - x),2)+ pow((1.4786702665059295 - y),2)+ pow((-1.3982390581614135 - z),2))) + (0.1) * exp((-0.01) *(pow((-0.6394765354785376 - x),2)+ pow((1.328789993591284 - y),2)+ pow((-1.3982390581614135 - z),2))) + (0.1) * exp((-0.01) *(pow((-0.38407295223287635 - x),2)+ pow((1.4665178119452833 - y),2)+ pow((-1.3982390581614135 - z),2))) + (0.1) * exp((-0.01) *(pow((-0.48423122017235165 - x),2)+ pow((1.4125069027868515 - y),2)+ pow((-1.3982390581614135 - z),2))) + (0.1) * exp((-0.01) *(pow((-0.5217905706496546 - x),2)+ pow((1.3922528118524404 - y),2)+ pow((-1.3982390581614135 - z),2))) + (0.1) * exp((-0.01) *(pow((-0.489239133569325 - x),2)+ pow((1.40980635732893 - y),2)+ pow((-1.3982390581614135 - z),2))) + (0.1) * exp((-0.01) *(pow((-0.38657690893136304 - x),2)+ pow((1.4651675392163226 - y),2)+ pow((-1.3982390581614135 - z),2))) + (0.1) * exp((-0.01) *(pow((-0.504262873760246 - x),2)+ pow((1.4017047209551663 - y),2)+ pow((-1.3982390581614135 - z),2))) + (0.1) * exp((-0.01) *(pow((-0.5242945273481413 - x),2)+ pow((1.3909025391234795 - y),2)+ pow((-1.3982390581614135 - z),2))) + (0.1) * exp((-0.01) *(pow((-0.7371308467195261 - x),2)+ pow((1.2761293571618129 - y),2)+ pow((-1.3982390581614135 - z),2))) + (0.1) * exp((-0.01) *(pow((-0.5944053149057738 - x),2)+ pow((1.3530949027125776 - y),2)+ pow((-1.3982390581614135 - z),2))) + (0.1) * exp((-0.01) *(pow((-0.526798484046628 - x),2)+ pow((1.3895522663945188 - y),2)+ pow((-1.3982390581614135 - z),2))) + (0.1) * exp((-0.01) *(pow((-0.5893974015088004 - x),2)+ pow((1.3557954481704992 - y),2)+ pow((-1.3982390581614135 - z),2))) + (0.1) * exp((-0.01) *(pow((-0.4016006491222849 - x),2)+ pow((1.4570659028425577 - y),2)+ pow((-1.3982390581614135 - z),2))) + (0.1) * exp((-0.01) *(pow((-0.6670200591618929 - x),2)+ pow((1.313936993572715 - y),2)+ pow((-1.3982390581614135 - z),2))) + (0.1) * exp((-0.01) *(pow((-0.46419956658445644 - x),2)+ pow((1.4233090846185381 - y),2)+ pow((-1.3982390581614135 - z),2))) + (0.1) * exp((-0.01) *(pow((-0.36153734194649445 - x),2)+ pow((1.4786702665059295 - y),2)+ pow((-1.3982390581614135 - z),2))) + (0.1) * exp((-0.01) *(pow((-0.717099193131631 - x),2)+ pow((1.2869315389934997 - y),2)+ pow((-1.3982390581614135 - z),2))) + (0.1) * exp((-0.01) *(pow((-0.5418222242375498 - x),2)+ pow((1.3814506300207539 - y),2)+ pow((-1.3982390581614135 - z),2))) + (0.1) * exp((-0.01) *(pow((-0.49424704696629923 - x),2)+ pow((1.4071058118710082 - y),2)+ pow((-1.3982390581614135 - z),2))) + (0.1) * exp((-0.01) *(pow((-0.49174309026781177 - x),2)+ pow((1.408456084599969 - y),2)+ pow((-1.3982390581614135 - z),2))) + (0.1) * exp((-0.01) *(pow((-0.7721862404983424 - x),2)+ pow((1.2572255389563627 - y),2)+ pow((-1.3982390581614135 - z),2))) + (0.1) * exp((-0.01) *(pow((-0.32397799146919154 - x),2)+ pow((1.4786702665059295 - y),2)+ pow((-1.3982390581614135 - z),2))) + (0.1) * exp((-0.01) *(pow((-0.3364977749616258 - x),2)+ pow((1.4786702665059295 - y),2)+ pow((-1.3982390581614135 - z),2))) + (0.1) * exp((-0.01) *(pow((-0.6344686220815642 - x),2)+ pow((1.3314905390492056 - y),2)+ pow((-1.3982390581614135 - z),2))) + (0.1) * exp((-0.01) *(pow((-0.36654525534346866 - x),2)+ pow((1.4759697210480078 - y),2)+ pow((-1.3982390581614135 - z),2))) + (0.1) * exp((-0.01) *(pow((-0.44166395629807453 - x),2)+ pow((1.4354615391791856 - y),2)+ pow((-1.3982390581614135 - z),2))) + (0.1) * exp((-0.01) *(pow((-0.7596664570059073 - x),2)+ pow((1.2639769026011667 - y),2)+ pow((-1.3982390581614135 - z),2))) + (0.1) * exp((-0.01) *(pow((-0.70958732303617 - x),2)+ pow((1.290982357180382 - y),2)+ pow((-1.3982390581614135 - z),2))) + (0.1) * exp((-0.01) *(pow((-0.40410460582077157 - x),2)+ pow((1.4557156301135967 - y),2)+ pow((-1.3982390581614135 - z),2))) + (0.1) * exp((-0.01) *(pow((-0.5518380510314974 - x),2)+ pow((1.3760495391049103 - y),2)+ pow((-1.3982390581614135 - z),2))) + (0.1) * exp((-0.01) *(pow((-0.48673517687083834 - x),2)+ pow((1.4111566300578906 - y),2)+ pow((-1.3982390581614135 - z),2))) + (0.1) * exp((-0.01) *(pow((-0.4166243893132059 - x),2)+ pow((1.4489642664687927 - y),2)+ pow((-1.3982390581614135 - z),2))) + (0.1) * exp((-0.01) *(pow((-0.394088779026824 - x),2)+ pow((1.46111672102944 - y),2)+ pow((-1.3982390581614135 - z),2))) + (0.1) * exp((-0.01) *(pow((-0.34901755845406013 - x),2)+ pow((1.4786702665059295 - y),2)+ pow((-1.3982390581614135 - z),2))) + (0.1) * exp((-0.01) *(pow((-0.32397799146919154 - x),2)+ pow((1.4786702665059295 - y),2)+ pow((-1.3982390581614135 - z),2))) + (0.1) * exp((-0.01) *(pow((-0.5393182675390623 - x),2)+ pow((1.3828009027497146 - y),2)+ pow((-1.3982390581614135 - z),2))) + (0.1) * exp((-0.01) *(pow((-0.6645161024634062 - x),2)+ pow((1.3152872663016757 - y),2)+ pow((-1.3982390581614135 - z),2))) + (0.1) * exp((-0.01) *(pow((-0.5167826572526811 - x),2)+ pow((1.394953357310362 - y),2)+ pow((-1.3982390581614135 - z),2))) + (0.1) * exp((-0.01) *(pow((-0.6595081890664328 - x),2)+ pow((1.3179878117595973 - y),2)+ pow((-1.3982390581614135 - z),2))) + (0.1) * exp((-0.01) *(pow((-0.5618538778254442 - x),2)+ pow((1.3706484481890684 - y),2)+ pow((-1.3982390581614135 - z),2))) + (0.1) * exp((-0.01) *(pow((-0.5493340943330098 - x),2)+ pow((1.3773998118338713 - y),2)+ pow((-1.3982390581614135 - z),2))) + (0.1) * exp((-0.01) *(pow((-0.6019171850012346 - x),2)+ pow((1.3490440845256952 - y),2)+ pow((-1.3982390581614135 - z),2))) + (0.1) * exp((-0.01) *(pow((-0.32397799146919154 - x),2)+ pow((1.4786702665059295 - y),2)+ pow((-1.3982390581614135 - z),2))) + (0.1) * exp((-0.01) *(pow((-0.5067668304587336 - x),2)+ pow((1.4003544482262054 - y),2)+ pow((-1.3982390581614135 - z),2))) + (0.1) * exp((-0.01) *(pow((-0.672027972558867 - x),2)+ pow((1.3112364481147931 - y),2)+ pow((-1.3982390581614135 - z),2))) + (0.1) * exp((-0.01) *(pow((-0.6444844488755118 - x),2)+ pow((1.3260894481333623 - y),2)+ pow((-1.3982390581614135 - z),2))) + (0.1) * exp((-0.01) *(pow((-0.33148986156465243 - x),2)+ pow((1.4786702665059295 - y),2)+ pow((-1.3982390581614135 - z),2))) + (0.1) * exp((-0.01) *(pow((-0.496751003664786 - x),2)+ pow((1.4057555391420486 - y),2)+ pow((-1.3982390581614135 - z),2))) + (-0.1) * exp((-0.01) *(pow((0.45304529855671255 - x),2)+ pow((0.5150256289375882 - y),2)+ pow((0.7151852854939772 - z),2))) + (-0.1) * exp((-0.01) *(pow((-0.3206773212757312 - x),2)+ pow((-0.31944291756017196 - y),2)+ pow((0.7151852854939772 - z),2))) + (-0.1) * exp((-0.01) *(pow((0.33160339868009914 - x),2)+ pow((0.3840491742283929 - y),2)+ pow((0.7151852854939772 - z),2))) + (-0.1) * exp((-0.01) *(pow((0.5006204758279631 - x),2)+ pow((0.5663359926380984 - y),2)+ pow((0.7151852854939772 - z),2))) + (-0.1) * exp((-0.01) *(pow((0.2915400915043095 - x),2)+ pow((0.34084044690164766 - y),2)+ pow((0.7151852854939772 - z),2))) + (-0.1) * exp((-0.01) *(pow((0.3290994419816124 - x),2)+ pow((0.38134862877047127 - y),2)+ pow((0.7151852854939772 - z),2))) + (-0.1) * exp((-0.01) *(pow((0.49686454078023345 - x),2)+ pow((0.562285174451216 - y),2)+ pow((0.7151852854939772 - z),2))) + (-0.1) * exp((-0.01) *(pow((0.3641548357604286 - x),2)+ pow((0.41915626518137317 - y),2)+ pow((0.7151852854939772 - z),2))) + (-0.1) * exp((-0.01) *(pow((0.2852801997580923 - x),2)+ pow((0.33408908325684483 - y),2)+ pow((0.7151852854939772 - z),2))) + (-0.1) * exp((-0.01) *(pow((0.3190836151876648 - x),2)+ pow((0.3705464469387859 - y),2)+ pow((0.7151852854939772 - z),2))) + (-0.1) * exp((-0.01) *(pow((0.4455334284612525 - x),2)+ pow((0.5069239925638233 - y),2)+ pow((0.7151852854939772 - z),2))) + (-0.1) * exp((-0.01) *(pow((0.4492893635089829 - x),2)+ pow((0.5109748107507057 - y),2)+ pow((0.7151852854939772 - z),2))) + (-0.1) * exp((-0.01) *(pow((0.3854384676975676 - x),2)+ pow((0.44211090157370597 - y),2)+ pow((0.7151852854939772 - z),2))) + (-0.1) * exp((-0.01) *(pow((0.2815242647103619 - x),2)+ pow((0.3300382650699623 - y),2)+ pow((0.7151852854939772 - z),2))) + (-0.1) * exp((-0.01) *(pow((0.3228395502353953 - x),2)+ pow((0.3745972651256671 - y),2)+ pow((0.7151852854939772 - z),2))) + (-0.1) * exp((-0.01) *(pow((0.4881006923355288 - x),2)+ pow((0.5528332653484901 - y),2)+ pow((0.7151852854939772 - z),2))) + (-0.1) * exp((-0.01) *(pow((0.41673792642865337 - x),2)+ pow((0.4758677197977254 - y),2)+ pow((0.7151852854939772 - z),2))) + (-0.1) * exp((-0.01) *(pow((0.4593051903029297 - x),2)+ pow((0.5217769925823923 - y),2)+ pow((0.7151852854939772 - z),2))) + (-0.1) * exp((-0.01) *(pow((0.31532768013993434 - x),2)+ pow((0.36649562875190345 - y),2)+ pow((0.7151852854939772 - z),2))) + (-0.1) * exp((-0.01) *(pow((0.29529602655203996 - x),2)+ pow((0.3448912650885302 - y),2)+ pow((0.7151852854939772 - z),2))) + (-0.1) * exp((-0.01) *(pow((0.4517933202074696 - x),2)+ pow((0.5136753562086274 - y),2)+ pow((0.7151852854939772 - z),2))) + (-0.1) * exp((-0.01) *(pow((0.4906046490340163 - x),2)+ pow((0.5555338108064117 - y),2)+ pow((0.7151852854939772 - z),2))) + (-0.1) * exp((-0.01) *(pow((0.29779998325052665 - x),2)+ pow((0.34759181054645183 - y),2)+ pow((0.7151852854939772 - z),2))) + (-0.1) * exp((-0.01) *(pow((0.36665879245891536 - x),2)+ pow((0.42185681063929487 - y),2)+ pow((0.7151852854939772 - z),2))) + (-0.1) * exp((-0.01) *(pow((0.45429727690595634 - x),2)+ pow((0.516375901666549 - y),2)+ pow((0.7151852854939772 - z),2))) + (-0.1) * exp((-0.01) *(pow((0.44052551506427823 - x),2)+ pow((0.5015229016479812 - y),2)+ pow((0.7151852854939772 - z),2))) + (-0.1) * exp((-0.01) *(pow((0.30030393994901333 - x),2)+ pow((0.3502923560043735 - y),2)+ pow((0.7151852854939772 - z),2))) + (-0.1) * exp((-0.01) *(pow((0.4956125624309897 - x),2)+ pow((0.5609349017222551 - y),2)+ pow((0.7151852854939772 - z),2))) + (-0.1) * exp((-0.01) *(pow((0.2990519615997704 - x),2)+ pow((0.34894208327541265 - y),2)+ pow((0.7151852854939772 - z),2))) + (-0.1) * exp((-0.01) *(pow((0.47683288719233824 - x),2)+ pow((0.5406808107878427 - y),2)+ pow((0.7151852854939772 - z),2))) + (-0.1) * exp((-0.01) *(pow((0.39795825119000194 - x),2)+ pow((0.4556136288633143 - y),2)+ pow((0.7151852854939772 - z),2))) + (-0.1) * exp((-0.01) *(pow((0.31031976674296097 - x),2)+ pow((0.3610945378360601 - y),2)+ pow((0.7151852854939772 - z),2))) + (-0.1) * exp((-0.01) *(pow((0.5031244325264506 - x),2)+ pow((0.5690365380960201 - y),2)+ pow((0.7151852854939772 - z),2))) + (-0.1) * exp((-0.01) *(pow((0.4830927789385554 - x),2)+ pow((0.5474321744326468 - y),2)+ pow((0.7151852854939772 - z),2))) + (-0.1) * exp((-0.01) *(pow((0.5143922376696412 - x),2)+ pow((0.5784884471987446 - y),2)+ pow((0.7151852854939772 - z),2))) + (-0.1) * exp((-0.01) *(pow((0.3704147275066458 - x),2)+ pow((0.42590762882617733 - y),2)+ pow((0.7151852854939772 - z),2))) + (-0.1) * exp((-0.01) *(pow((0.3303514203308562 - x),2)+ pow((0.3826989014994321 - y),2)+ pow((0.7151852854939772 - z),2))) + (-0.1) * exp((-0.01) *(pow((0.31783163683842186 - x),2)+ pow((0.3691961742098251 - y),2)+ pow((0.7151852854939772 - z),2))) + (-0.1) * exp((-0.01) *(pow((0.43802155836579154 - x),2)+ pow((0.49882235619005955 - y),2)+ pow((0.7151852854939772 - z),2))) + (-0.1) * exp((-0.01) *(pow((0.4605571686521735 - x),2)+ pow((0.5231272653113531 - y),2)+ pow((0.7151852854939772 - z),2))) + (-0.1) * exp((-0.01) *(pow((0.3691627491574029 - x),2)+ pow((0.4245573560972165 - y),2)+ pow((0.7151852854939772 - z),2))) + (-0.1) * exp((-0.01) *(pow((0.3453751605217772 - x),2)+ pow((0.39890217424696206 - y),2)+ pow((0.7151852854939772 - z),2))) + (-0.1) * exp((-0.01) *(pow((0.4217458398256268 - x),2)+ pow((0.48126881071356875 - y),2)+ pow((0.7151852854939772 - z),2))) + (-0.1) * exp((-0.01) *(pow((0.2840282214088486 - x),2)+ pow((0.332738810527884 - y),2)+ pow((0.7151852854939772 - z),2))) + (-0.1) * exp((-0.01) *(pow((0.3654068141096724 - x),2)+ pow((0.42050653791033404 - y),2)+ pow((0.7151852854939772 - z),2))) + (-0.1) * exp((-0.01) *(pow((0.48434475728779913 - x),2)+ pow((0.5487824471616076 - y),2)+ pow((0.7151852854939772 - z),2))) + (-0.1) * exp((-0.01) *(pow((0.39420231614227147 - x),2)+ pow((0.4515628106764318 - y),2)+ pow((0.7151852854939772 - z),2))) + (-0.1) * exp((-0.01) *(pow((0.3466271388710209 - x),2)+ pow((0.4002524469759229 - y),2)+ pow((0.7151852854939772 - z),2))) + (-0.1) * exp((-0.01) *(pow((0.4017141862377316 - x),2)+ pow((0.45966444705019677 - y),2)+ pow((0.7151852854939772 - z),2))) + (-0.1) * exp((-0.01) *(pow((0.441777493413522 - x),2)+ pow((0.502873174376942 - y),2)+ pow((0.7151852854939772 - z),2))) + (-0.1) * exp((-0.01) *(pow((0.3416192254740467 - x),2)+ pow((0.39485135606007954 - y),2)+ pow((0.7151852854939772 - z),2))) + (-0.1) * exp((-0.01) *(pow((0.4142339697301667 - x),2)+ pow((0.47316717433980376 - y),2)+ pow((0.7151852854939772 - z),2))) + (-0.1) * exp((-0.01) *(pow((0.37417066255437625 - x),2)+ pow((0.4299584470130598 - y),2)+ pow((0.7151852854939772 - z),2))) + (-0.1) * exp((-0.01) *(pow((0.493108605732503 - x),2)+ pow((0.5582343562643334 - y),2)+ pow((0.7151852854939772 - z),2))) + (-0.1) * exp((-0.01) *(pow((0.35163505226799435 - x),2)+ pow((0.4056535378917649 - y),2)+ pow((0.7151852854939772 - z),2))) + (-0.1) * exp((-0.01) *(pow((0.38919440274529726 - x),2)+ pow((0.4461617197605885 - y),2)+ pow((0.7151852854939772 - z),2))) + (-0.1) * exp((-0.01) *(pow((0.4067220996347058 - x),2)+ pow((0.4650655379660401 - y),2)+ pow((0.7151852854939772 - z),2))) + (-0.1) * exp((-0.01) *(pow((0.29028811315506575 - x),2)+ pow((0.33949017417268684 - y),2)+ pow((0.7151852854939772 - z),2))) + (-0.1) * exp((-0.01) *(pow((0.47182497379536403 - x),2)+ pow((0.5352797198720006 - y),2)+ pow((0.7151852854939772 - z),2))) + (-0.1) * exp((-0.01) *(pow((0.3065638316952305 - x),2)+ pow((0.35704371964917764 - y),2)+ pow((0.7151852854939772 - z),2))) + (-0.1) * exp((-0.01) *(pow((0.4192418831271401 - x),2)+ pow((0.4785682652556471 - y),2)+ pow((0.7151852854939772 - z),2))) + (-0.1) * exp((-0.01) *(pow((0.3378632904263163 - x),2)+ pow((0.3908005378731971 - y),2)+ pow((0.7151852854939772 - z),2))) + (-0.1) * exp((-0.01) *(pow((0.43050968827033065 - x),2)+ pow((0.49072071981629456 - y),2)+ pow((0.7151852854939772 - z),2))) + (-0.1) * exp((-0.01) *(pow((0.42049386147638385 - x),2)+ pow((0.47991853798460793 - y),2)+ pow((0.7151852854939772 - z),2))) + (-0.1) * exp((-0.01) *(pow((0.34036724712480376 - x),2)+ pow((0.3935010833311187 - y),2)+ pow((0.7151852854939772 - z),2))) + (-0.1) * exp((-0.01) *(pow((0.29404404820279617 - x),2)+ pow((0.34354099235956936 - y),2)+ pow((0.7151852854939772 - z),2))) + (-0.1) * exp((-0.01) *(pow((0.35038307391875056 - x),2)+ pow((0.40430326516280535 - y),2)+ pow((0.7151852854939772 - z),2))) + (-0.1) * exp((-0.01) *(pow((0.3841864893483239 - x),2)+ pow((0.44076062884474515 - y),2)+ pow((0.7151852854939772 - z),2))) + (-0.1) * exp((-0.01) *(pow((0.32158757188615233 - x),2)+ pow((0.3732469923967063 - y),2)+ pow((0.7151852854939772 - z),2))) + (-0.1) * exp((-0.01) *(pow((0.3992102295392449 - x),2)+ pow((0.4569639015922751 - y),2)+ pow((0.7151852854939772 - z),2))) + (-0.1) * exp((-0.01) *(pow((0.426753753222601 - x),2)+ pow((0.48666990162941204 - y),2)+ pow((0.7151852854939772 - z),2))) + (-0.1) * exp((-0.01) *(pow((0.4981165191294764 - x),2)+ pow((0.5636354471801768 - y),2)+ pow((0.7151852854939772 - z),2))) + (-0.1) * exp((-0.01) *(pow((0.35664296566496856 - x),2)+ pow((0.41105462880760824 - y),2)+ pow((0.7151852854939772 - z),2))) + (-0.1) * exp((-0.01) *(pow((0.46556508204914687 - x),2)+ pow((0.5285283562271965 - y),2)+ pow((0.7151852854939772 - z),2))) + (-0.1) * exp((-0.01) *(pow((0.5206521294158584 - x),2)+ pow((0.5784884471987446 - y),2)+ pow((0.7151852854939772 - z),2))) + (-0.1) * exp((-0.01) *(pow((0.3428712038232905 - x),2)+ pow((0.39620162878904036 - y),2)+ pow((0.7151852854939772 - z),2))) + (-0.1) * exp((-0.01) *(pow((0.37792659760210673 - x),2)+ pow((0.4340092651999423 - y),2)+ pow((0.7151852854939772 - z),2))) + (-0.1) * exp((-0.01) *(pow((0.4042181429362191 - x),2)+ pow((0.4623649925081184 - y),2)+ pow((0.7151852854939772 - z),2))) + (-0.1) * exp((-0.01) *(pow((0.4868487139862858 - x),2)+ pow((0.5514829926195293 - y),2)+ pow((0.7151852854939772 - z),2))) + (-0.1) * exp((-0.01) *(pow((-0.3219292996249749 - x),2)+ pow((-0.3207931902891328 - y),2)+ pow((0.7151852854939772 - z),2))) + (-0.1) * exp((-0.01) *(pow((0.44302947176276497 - x),2)+ pow((0.5042234471059028 - y),2)+ pow((0.7151852854939772 - z),2))) + (-0.1) * exp((-0.01) *(pow((0.3478791172202639 - x),2)+ pow((0.4016027197048837 - y),2)+ pow((0.7151852854939772 - z),2))) + (-0.1) * exp((-0.01) *(pow((0.3491310955695076 - x),2)+ pow((0.4029529924338445 - y),2)+ pow((0.7151852854939772 - z),2))) + (-0.1) * exp((-0.01) *(pow((0.3603989007126982 - x),2)+ pow((0.4151054469944907 - y),2)+ pow((0.7151852854939772 - z),2))) + (-0.1) * exp((-0.01) *(pow((0.4705729954461211 - x),2)+ pow((0.5339294471430398 - y),2)+ pow((0.7151852854939772 - z),2))) + (-0.1) * exp((-0.01) *(pow((0.46932101709687735 - x),2)+ pow((0.532579174414079 - y),2)+ pow((0.7151852854939772 - z),2))) + (-0.1) * exp((-0.01) *(pow((0.287784156456579 - x),2)+ pow((0.3367896287147665 - y),2)+ pow((0.7151852854939772 - z),2))) + (-0.1) * exp((-0.01) *(pow((0.41173001303167917 - x),2)+ pow((0.4704666288818834 - y),2)+ pow((0.7151852854939772 - z),2))) + (-0.1) * exp((-0.01) *(pow((0.4442814501120087 - x),2)+ pow((0.5055737198348637 - y),2)+ pow((0.7151852854939772 - z),2))) + (-0.1) * exp((-0.01) *(pow((0.4818408005893116 - x),2)+ pow((0.546081901703686 - y),2)+ pow((0.7151852854939772 - z),2))) + (-0.1) * exp((-0.01) *(pow((0.324091528584639 - x),2)+ pow((0.375947537854628 - y),2)+ pow((0.7151852854939772 - z),2))) + (-0.1) * exp((-0.01) *(pow((0.47307695214460777 - x),2)+ pow((0.5366299926009614 - y),2)+ pow((0.7151852854939772 - z),2))) + (-0.1) * exp((-0.01) *(pow((0.32033559353690855 - x),2)+ pow((0.37189671966774546 - y),2)+ pow((0.7151852854939772 - z),2))) + (-0.1) * exp((-0.01) *(pow((0.48935267068477256 - x),2)+ pow((0.5541835380774509 - y),2)+ pow((0.7151852854939772 - z),2))) + (-0.1) * exp((-0.01) *(pow((0.4855967356370421 - x),2)+ pow((0.5501327198905684 - y),2)+ pow((0.7151852854939772 - z),2))) + (-0.1) * exp((-0.01) *(pow((0.43551760166730485 - x),2)+ pow((0.49612181073213785 - y),2)+ pow((0.7151852854939772 - z),2))) + (-0.1) * exp((-0.01) *(pow((0.5018724541772068 - x),2)+ pow((0.5676862653670592 - y),2)+ pow((0.7151852854939772 - z),2))) + (-0.1) * exp((-0.01) *(pow((-0.31817336457724443 - x),2)+ pow((-0.3167423721022503 - y),2)+ pow((0.7151852854939772 - z),2))) + (-0.1) * exp((-0.01) *(pow((0.5118882809711545 - x),2)+ pow((0.5784884471987446 - y),2)+ pow((0.7151852854939772 - z),2))) + (-0.1) * exp((-0.01) *(pow((0.4292577099210877 - x),2)+ pow((0.48937044708733374 - y),2)+ pow((0.7151852854939772 - z),2))) + (-0.1) * exp((-0.01) *(pow((0.4680690387476344 - x),2)+ pow((0.5312289016851182 - y),2)+ pow((0.7151852854939772 - z),2))) + (-0.1) * exp((-0.01) *(pow((0.4480373851597392 - x),2)+ pow((0.5096245380217449 - y),2)+ pow((0.7151852854939772 - z),2))) + (-0.1) * exp((-0.01) *(pow((0.4367695800165478 - x),2)+ pow((0.49747208346109867 - y),2)+ pow((0.7151852854939772 - z),2))) + (-0.1) * exp((-0.01) *(pow((0.4643131036999039 - x),2)+ pow((0.5271780834982357 - y),2)+ pow((0.7151852854939772 - z),2))) + (-0.1) * exp((-0.01) *(pow((0.40797407798394875 - x),2)+ pow((0.46641581069500093 - y),2)+ pow((0.7151852854939772 - z),2))) + (-0.1) * exp((-0.01) *(pow((0.38168253264983715 - x),2)+ pow((0.4380600833868248 - y),2)+ pow((0.7151852854939772 - z),2))) + (-0.1) * exp((-0.01) *(pow((0.5056283892249374 - x),2)+ pow((0.5717370835539417 - y),2)+ pow((0.7151852854939772 - z),2))) + (-0.1) * exp((-0.01) *(pow((0.3078158100444743 - x),2)+ pow((0.35839399237813846 - y),2)+ pow((0.7151852854939772 - z),2))) + (-0.1) * exp((-0.01) *(pow((0.33661131207707334 - x),2)+ pow((0.38945026514423625 - y),2)+ pow((0.7151852854939772 - z),2))) + (-0.1) * exp((-0.01) *(pow((0.45554925525520007 - x),2)+ pow((0.5177261743955098 - y),2)+ pow((0.7151852854939772 - z),2))) + (-0.1) * exp((-0.01) *(pow((0.3879424243960543 - x),2)+ pow((0.44481144703162767 - y),2)+ pow((0.7151852854939772 - z),2))) + (-0.1) * exp((-0.01) *(pow((0.3441231821725334 - x),2)+ pow((0.3975519015180012 - y),2)+ pow((0.7151852854939772 - z),2))) + (-0.1) * exp((-0.01) *(pow((0.3729186842051325 - x),2)+ pow((0.428608174284099 - y),2)+ pow((0.7151852854939772 - z),2))) + (-0.1) * exp((-0.01) *(pow((0.39670627284075816 - x),2)+ pow((0.4542633561343535 - y),2)+ pow((0.7151852854939772 - z),2))) + (-0.1) * exp((-0.01) *(pow((0.49436058408174594 - x),2)+ pow((0.5595846289932943 - y),2)+ pow((0.7151852854939772 - z),2))) + (-0.1) * exp((-0.01) *(pow((0.2802722863611181 - x),2)+ pow((0.3286879923410015 - y),2)+ pow((0.7151852854939772 - z),2))) + (-0.1) * exp((-0.01) *(pow((0.41548594807940964 - x),2)+ pow((0.4745174470687646 - y),2)+ pow((0.7151852854939772 - z),2))) + (-0.1) * exp((-0.01) *(pow((0.31657965848917813 - x),2)+ pow((0.36784590148086427 - y),2)+ pow((0.7151852854939772 - z),2))) + (-0.1) * exp((-0.01) *(pow((0.4242497965241135 - x),2)+ pow((0.4839693561714904 - y),2)+ pow((0.7151852854939772 - z),2))) + (-0.1) * exp((-0.01) *(pow((0.5043764108756935 - x),2)+ pow((0.5703868108249809 - y),2)+ pow((0.7151852854939772 - z),2))) + (-0.1) * exp((-0.01) *(pow((0.49936849747872014 - x),2)+ pow((0.5649857199091376 - y),2)+ pow((0.7151852854939772 - z),2))) + (-0.1) * exp((-0.01) *(pow((0.3278474636323695 - x),2)+ pow((0.37999835604151044 - y),2)+ pow((0.7151852854939772 - z),2))) + (-0.1) * exp((-0.01) *(pow((0.3040598749967438 - x),2)+ pow((0.354343174191256 - y),2)+ pow((0.7151852854939772 - z),2))) + (-0.1) * exp((-0.01) *(pow((0.43301364496881817 - x),2)+ pow((0.4934212652742162 - y),2)+ pow((0.7151852854939772 - z),2))) + (-0.1) * exp((-0.01) *(pow((0.2890361348058228 - x),2)+ pow((0.338139901443726 - y),2)+ pow((0.7151852854939772 - z),2))) + (-0.1) * exp((-0.01) *(pow((0.3829345109990801 - x),2)+ pow((0.43941035611578433 - y),2)+ pow((0.7151852854939772 - z),2))) + (-0.1) * exp((-0.01) *(pow((0.46180914700141723 - x),2)+ pow((0.5244775380403139 - y),2)+ pow((0.7151852854939772 - z),2))) + (-0.1) * exp((-0.01) *(pow((0.35914692236345525 - x),2)+ pow((0.4137551742655299 - y),2)+ pow((0.7151852854939772 - z),2))) + (-0.1) * exp((-0.01) *(pow((0.35539098731572477 - x),2)+ pow((0.4097043560786474 - y),2)+ pow((0.7151852854939772 - z),2))) + (-0.1) * exp((-0.01) *(pow((0.30531185334598754 - x),2)+ pow((0.3556934469202168 - y),2)+ pow((0.7151852854939772 - z),2))) + (-0.1) * exp((-0.01) *(pow((0.4255017748733572 - x),2)+ pow((0.4853196289004512 - y),2)+ pow((0.7151852854939772 - z),2))) + (-0.1) * exp((-0.01) *(pow((0.37667461925286294 - x),2)+ pow((0.4326589924709815 - y),2)+ pow((0.7151852854939772 - z),2))) + (-0.1) * exp((-0.01) *(pow((0.3028078966475 - x),2)+ pow((0.3529929014622951 - y),2)+ pow((0.7151852854939772 - z),2))) + (-0.1) * exp((-0.01) *(pow((0.47432893049385155 - x),2)+ pow((0.5379802653299223 - y),2)+ pow((0.7151852854939772 - z),2))) + (-0.1) * exp((-0.01) *(pow((0.33911526877556003 - x),2)+ pow((0.3921508106021579 - y),2)+ pow((0.7151852854939772 - z),2))) + (-0.1) * exp((-0.01) *(pow((0.33285537702934287 - x),2)+ pow((0.38539944695735373 - y),2)+ pow((0.7151852854939772 - z),2))) + (-0.1) * exp((-0.01) *(pow((0.4755809088430945 - x),2)+ pow((0.5393305380588831 - y),2)+ pow((0.7151852854939772 - z),2))) + (-0.1) * exp((-0.01) *(pow((0.5131402593203982 - x),2)+ pow((0.5784884471987446 - y),2)+ pow((0.7151852854939772 - z),2))) + (-0.1) * exp((-0.01) *(pow((0.37917857595134963 - x),2)+ pow((0.43535953792890314 - y),2)+ pow((0.7151852854939772 - z),2))) + (-0.1) * exp((-0.01) *(pow((0.42299781817487053 - x),2)+ pow((0.4826190834425296 - y),2)+ pow((0.7151852854939772 - z),2))) + (-0.1) * exp((-0.01) *(pow((0.3528870306172381 - x),2)+ pow((0.4070038106207257 - y),2)+ pow((0.7151852854939772 - z),2))) + (-0.1) * exp((-0.01) *(pow((0.37166670585588957 - x),2)+ pow((0.42725790155513815 - y),2)+ pow((0.7151852854939772 - z),2))) + (-0.1) * exp((-0.01) *(pow((0.325343506933882 - x),2)+ pow((0.3772978105835888 - y),2)+ pow((0.7151852854939772 - z),2))) + (-0.1) * exp((-0.01) *(pow((0.47808486554158197 - x),2)+ pow((0.5420310835168035 - y),2)+ pow((0.7151852854939772 - z),2))) + (-0.1) * exp((-0.01) *(pow((0.4317616666195744 - x),2)+ pow((0.4920709925452554 - y),2)+ pow((0.7151852854939772 - z),2))) + (-0.1) * exp((-0.01) *(pow((0.28277624305960564 - x),2)+ pow((0.3313885377989232 - y),2)+ pow((0.7151852854939772 - z),2))) + (-0.1) * exp((-0.01) *(pow((0.41298199138092295 - x),2)+ pow((0.4718169016108442 - y),2)+ pow((0.7151852854939772 - z),2))) + (-0.1) * exp((-0.01) *(pow((0.5168961943681278 - x),2)+ pow((0.5784884471987446 - y),2)+ pow((0.7151852854939772 - z),2))) + (-0.1) * exp((-0.01) *(pow((0.35413900896648104 - x),2)+ pow((0.40835408334968654 - y),2)+ pow((0.7151852854939772 - z),2))) + (-0.1) * exp((-0.01) *(pow((0.5093843242726678 - x),2)+ pow((0.575787901740823 - y),2)+ pow((0.7151852854939772 - z),2))) + (-0.1) * exp((-0.01) *(pow((0.508132345923424 - x),2)+ pow((0.5744376290118621 - y),2)+ pow((0.7151852854939772 - z),2))) + (-0.1) * exp((-0.01) *(pow((0.4805888222400687 - x),2)+ pow((0.5447316289747252 - y),2)+ pow((0.7151852854939772 - z),2))) + (-0.1) * exp((-0.01) *(pow((0.4467854068104954 - x),2)+ pow((0.5082742652927841 - y),2)+ pow((0.7151852854939772 - z),2))) + (-0.1) * exp((-0.01) *(pow((0.49185662738325925 - x),2)+ pow((0.5568840835353726 - y),2)+ pow((0.7151852854939772 - z),2))) + (-0.1) * exp((-0.01) *(pow((0.5194001510666154 - x),2)+ pow((0.5784884471987446 - y),2)+ pow((0.7151852854939772 - z),2))) + (-0.1) * exp((-0.01) *(pow((0.3578949440142115 - x),2)+ pow((0.41240490153656906 - y),2)+ pow((0.7151852854939772 - z),2))) + (-0.1) * exp((-0.01) *(pow((0.4104780346824362 - x),2)+ pow((0.4691163561529226 - y),2)+ pow((0.7151852854939772 - z),2))) + (-0.1) * exp((-0.01) *(pow((0.43927353671503533 - x),2)+ pow((0.5001726289190204 - y),2)+ pow((0.7151852854939772 - z),2))) + (-0.1) * exp((-0.01) *(pow((0.4793368438908249 - x),2)+ pow((0.5433813562457643 - y),2)+ pow((0.7151852854939772 - z),2))) + (-0.1) * exp((-0.01) *(pow((0.3341073553785866 - x),2)+ pow((0.38674971968631455 - y),2)+ pow((0.7151852854939772 - z),2))) + (-0.1) * exp((-0.01) *(pow((0.3679107708081591 - x),2)+ pow((0.4232070833682557 - y),2)+ pow((0.7151852854939772 - z),2))) + (-0.1) * exp((-0.01) *(pow((0.4092260563331925 - x),2)+ pow((0.46776608342396175 - y),2)+ pow((0.7151852854939772 - z),2))) + (-0.1) * exp((-0.01) *(pow((0.4179899047778963 - x),2)+ pow((0.4772179925266863 - y),2)+ pow((0.7151852854939772 - z),2))) + (-0.01684231460094463)\n",
      "HELLO WORLD\n",
      "900\n",
      "f_1(x) = (0.1) * exp((-0.01) *(pow((-0.379065038835903 - x),2)+ pow((1.4692183574032052 - y),2)+ pow((-1.3982390581614135 - z),2))) + (0.1) * exp((-0.01) *(pow((-0.32397799146919154 - x),2)+ pow((1.4786702665059295 - y),2)+ pow((-1.3982390581614135 - z),2))) + (0.1) * exp((-0.01) *(pow((-0.42163230271017926 - x),2)+ pow((1.446263721010871 - y),2)+ pow((-1.3982390581614135 - z),2))) + (0.1) * exp((-0.01) *(pow((-0.356529428549521 - x),2)+ pow((1.4786702665059295 - y),2)+ pow((-1.3982390581614135 - z),2))) + (0.1) * exp((-0.01) *(pow((-0.3264819481676782 - x),2)+ pow((1.4786702665059295 - y),2)+ pow((-1.3982390581614135 - z),2))) + (0.1) * exp((-0.01) *(pow((-0.39909669242379736 - x),2)+ pow((1.4584161755715184 - y),2)+ pow((-1.3982390581614135 - z),2))) + (0.1) * exp((-0.01) *(pow((-0.39158482232833725 - x),2)+ pow((1.462466993758401 - y),2)+ pow((-1.3982390581614135 - z),2))) + (0.1) * exp((-0.01) *(pow((-0.42664021610715347 - x),2)+ pow((1.4435631755529492 - y),2)+ pow((-1.3982390581614135 - z),2))) + (0.1) * exp((-0.01) *(pow((-0.40660856251925825 - x),2)+ pow((1.454365357384636 - y),2)+ pow((-1.3982390581614135 - z),2))) + (0.09968199916441675) * exp((-0.01) *(pow((-0.5668617912224184 - x),2)+ pow((1.3679479027311467 - y),2)+ pow((-1.3982390581614135 - z),2))) + (0.1) * exp((-0.01) *(pow((-0.49925496036327266 - x),2)+ pow((1.404405266413088 - y),2)+ pow((-1.3982390581614135 - z),2))) + (0.1) * exp((-0.01) *(pow((-0.5568459644284708 - x),2)+ pow((1.3733489936469887 - y),2)+ pow((-1.3982390581614135 - z),2))) + (0.1) * exp((-0.01) *(pow((-0.4692074799814298 - x),2)+ pow((1.4206085391606165 - y),2)+ pow((-1.3982390581614135 - z),2))) + (0.1) * exp((-0.01) *(pow((-0.34150568835859924 - x),2)+ pow((1.4786702665059295 - y),2)+ pow((-1.3982390581614135 - z),2))) + (0.1) * exp((-0.01) *(pow((-0.4541837397905088 - x),2)+ pow((1.4287101755343814 - y),2)+ pow((-1.3982390581614135 - z),2))) + (0.1) * exp((-0.01) *(pow((-0.4116164759162317 - x),2)+ pow((1.4516648119267144 - y),2)+ pow((-1.3982390581614135 - z),2))) + (0.1) * exp((-0.01) *(pow((-0.3339938182631391 - x),2)+ pow((1.4786702665059295 - y),2)+ pow((-1.3982390581614135 - z),2))) + (0.1) * exp((-0.01) *(pow((-0.4241362594086668 - x),2)+ pow((1.4449134482819102 - y),2)+ pow((-1.3982390581614135 - z),2))) + (0.1) * exp((-0.01) *(pow((-0.35402547185103356 - x),2)+ pow((1.4786702665059295 - y),2)+ pow((-1.3982390581614135 - z),2))) + (0.1) * exp((-0.01) *(pow((-0.4316481295041269 - x),2)+ pow((1.4408626300950276 - y),2)+ pow((-1.3982390581614135 - z),2))) + (0.1) * exp((-0.01) *(pow((-0.474215393378404 - x),2)+ pow((1.4179079937026948 - y),2)+ pow((-1.3982390581614135 - z),2))) + (0.1) * exp((-0.01) *(pow((-0.4667035232829431 - x),2)+ pow((1.4219588118895774 - y),2)+ pow((-1.3982390581614135 - z),2))) + (0.1) * exp((-0.01) *(pow((-0.5092707871572203 - x),2)+ pow((1.3990041754972444 - y),2)+ pow((-1.3982390581614135 - z),2))) + (0.1) * exp((-0.01) *(pow((-0.32397799146919154 - x),2)+ pow((1.4786702665059295 - y),2)+ pow((-1.3982390581614135 - z),2))) + (0.1) * exp((-0.01) *(pow((-0.34400964505708675 - x),2)+ pow((1.4786702665059295 - y),2)+ pow((-1.3982390581614135 - z),2))) + (0.1) * exp((-0.01) *(pow((-0.46169560988596975 - x),2)+ pow((1.424659357347499 - y),2)+ pow((-1.3982390581614135 - z),2))) + (0.1) * exp((-0.01) *(pow((-0.5468301376345232 - x),2)+ pow((1.378750084562832 - y),2)+ pow((-1.3982390581614135 - z),2))) + (0.1) * exp((-0.01) *(pow((-0.511774743855707 - x),2)+ pow((1.3976539027682837 - y),2)+ pow((-1.3982390581614135 - z),2))) + (0.1) * exp((-0.01) *(pow((-0.4191283460116926 - x),2)+ pow((1.4476139937398318 - y),2)+ pow((-1.3982390581614135 - z),2))) + (0.1) * exp((-0.01) *(pow((-0.4466718696950479 - x),2)+ pow((1.432760993721264 - y),2)+ pow((-1.3982390581614135 - z),2))) + (0.1) * exp((-0.01) *(pow((-0.3965927357253107 - x),2)+ pow((1.4597664483004793 - y),2)+ pow((-1.3982390581614135 - z),2))) + (0.1) * exp((-0.01) *(pow((-0.38908086562985056 - x),2)+ pow((1.4638172664873617 - y),2)+ pow((-1.3982390581614135 - z),2))) + (0.1) * exp((-0.01) *(pow((-0.32397799146919154 - x),2)+ pow((1.4786702665059295 - y),2)+ pow((-1.3982390581614135 - z),2))) + (0.1) * exp((-0.01) *(pow((-0.4366560429011011 - x),2)+ pow((1.4381620846371073 - y),2)+ pow((-1.3982390581614135 - z),2))) + (0.1) * exp((-0.01) *(pow((-0.35903338524800776 - x),2)+ pow((1.4786702665059295 - y),2)+ pow((-1.3982390581614135 - z),2))) + (0.1) * exp((-0.01) *(pow((-0.4341520862026136 - x),2)+ pow((1.4395123573660682 - y),2)+ pow((-1.3982390581614135 - z),2))) + (0.1) * exp((-0.01) *(pow((-0.45668769648899554 - x),2)+ pow((1.4273599028054207 - y),2)+ pow((-1.3982390581614135 - z),2))) + (0.1) * exp((-0.01) *(pow((-0.3289859048661649 - x),2)+ pow((1.4786702665059295 - y),2)+ pow((-1.3982390581614135 - z),2))) + (0.1) * exp((-0.01) *(pow((-0.459191653187483 - x),2)+ pow((1.4260096300764598 - y),2)+ pow((-1.3982390581614135 - z),2))) + (0.1) * exp((-0.01) *(pow((-0.5543420077299841 - x),2)+ pow((1.3746992663759496 - y),2)+ pow((-1.3982390581614135 - z),2))) + (0.1) * exp((-0.01) *(pow((-0.32397799146919154 - x),2)+ pow((1.4786702665059295 - y),2)+ pow((-1.3982390581614135 - z),2))) + (0.1) * exp((-0.01) *(pow((-0.36904921204195534 - x),2)+ pow((1.4746194483190471 - y),2)+ pow((-1.3982390581614135 - z),2))) + (0.1) * exp((-0.01) *(pow((-0.4391599995995878 - x),2)+ pow((1.4368118119081466 - y),2)+ pow((-1.3982390581614135 - z),2))) + (0.1) * exp((-0.01) *(pow((-0.5017589170617593 - x),2)+ pow((1.403054993684127 - y),2)+ pow((-1.3982390581614135 - z),2))) + (0.1) * exp((-0.01) *(pow((-0.3740571254389288 - x),2)+ pow((1.4719189028611268 - y),2)+ pow((-1.3982390581614135 - z),2))) + (0.1) * exp((-0.01) *(pow((-0.5643578345239317 - x),2)+ pow((1.3692981754601077 - y),2)+ pow((-1.3982390581614135 - z),2))) + (0.1) * exp((-0.01) *(pow((-0.4491758263935354 - x),2)+ pow((1.431410720992303 - y),2)+ pow((-1.3982390581614135 - z),2))) + (0.1) * exp((-0.01) *(pow((-0.37155316874044203 - x),2)+ pow((1.4732691755900875 - y),2)+ pow((-1.3982390581614135 - z),2))) + (0.1) * exp((-0.01) *(pow((-0.5368143108405756 - x),2)+ pow((1.3841511754786755 - y),2)+ pow((-1.3982390581614135 - z),2))) + (0.1) * exp((-0.01) *(pow((-0.5192866139511678 - x),2)+ pow((1.3936030845814011 - y),2)+ pow((-1.3982390581614135 - z),2))) + (0.1) * exp((-0.01) *(pow((-0.47922330677537744 - x),2)+ pow((1.4152074482447732 - y),2)+ pow((-1.3982390581614135 - z),2))) + (0.1) * exp((-0.01) *(pow((-0.34651360175557344 - x),2)+ pow((1.4786702665059295 - y),2)+ pow((-1.3982390581614135 - z),2))) + (0.1) * exp((-0.01) *(pow((-0.32397799146919154 - x),2)+ pow((1.4786702665059295 - y),2)+ pow((-1.3982390581614135 - z),2))) + (0.1) * exp((-0.01) *(pow((-0.38407295223287635 - x),2)+ pow((1.4665178119452833 - y),2)+ pow((-1.3982390581614135 - z),2))) + (0.1) * exp((-0.01) *(pow((-0.48423122017235165 - x),2)+ pow((1.4125069027868515 - y),2)+ pow((-1.3982390581614135 - z),2))) + (0.1) * exp((-0.01) *(pow((-0.5217905706496546 - x),2)+ pow((1.3922528118524404 - y),2)+ pow((-1.3982390581614135 - z),2))) + (0.1) * exp((-0.01) *(pow((-0.489239133569325 - x),2)+ pow((1.40980635732893 - y),2)+ pow((-1.3982390581614135 - z),2))) + (0.1) * exp((-0.01) *(pow((-0.38657690893136304 - x),2)+ pow((1.4651675392163226 - y),2)+ pow((-1.3982390581614135 - z),2))) + (0.1) * exp((-0.01) *(pow((-0.504262873760246 - x),2)+ pow((1.4017047209551663 - y),2)+ pow((-1.3982390581614135 - z),2))) + (0.1) * exp((-0.01) *(pow((-0.5242945273481413 - x),2)+ pow((1.3909025391234795 - y),2)+ pow((-1.3982390581614135 - z),2))) + (0.1) * exp((-0.01) *(pow((-0.526798484046628 - x),2)+ pow((1.3895522663945188 - y),2)+ pow((-1.3982390581614135 - z),2))) + (0.1) * exp((-0.01) *(pow((-0.4016006491222849 - x),2)+ pow((1.4570659028425577 - y),2)+ pow((-1.3982390581614135 - z),2))) + (0.1) * exp((-0.01) *(pow((-0.46419956658445644 - x),2)+ pow((1.4233090846185381 - y),2)+ pow((-1.3982390581614135 - z),2))) + (0.1) * exp((-0.01) *(pow((-0.36153734194649445 - x),2)+ pow((1.4786702665059295 - y),2)+ pow((-1.3982390581614135 - z),2))) + (0.1) * exp((-0.01) *(pow((-0.5418222242375498 - x),2)+ pow((1.3814506300207539 - y),2)+ pow((-1.3982390581614135 - z),2))) + (0.1) * exp((-0.01) *(pow((-0.49424704696629923 - x),2)+ pow((1.4071058118710082 - y),2)+ pow((-1.3982390581614135 - z),2))) + (0.1) * exp((-0.01) *(pow((-0.49174309026781177 - x),2)+ pow((1.408456084599969 - y),2)+ pow((-1.3982390581614135 - z),2))) + (0.1) * exp((-0.01) *(pow((-0.32397799146919154 - x),2)+ pow((1.4786702665059295 - y),2)+ pow((-1.3982390581614135 - z),2))) + (0.1) * exp((-0.01) *(pow((-0.3364977749616258 - x),2)+ pow((1.4786702665059295 - y),2)+ pow((-1.3982390581614135 - z),2))) + (0.1) * exp((-0.01) *(pow((-0.36654525534346866 - x),2)+ pow((1.4759697210480078 - y),2)+ pow((-1.3982390581614135 - z),2))) + (0.1) * exp((-0.01) *(pow((-0.44166395629807453 - x),2)+ pow((1.4354615391791856 - y),2)+ pow((-1.3982390581614135 - z),2))) + (0.1) * exp((-0.01) *(pow((-0.40410460582077157 - x),2)+ pow((1.4557156301135967 - y),2)+ pow((-1.3982390581614135 - z),2))) + (0.1) * exp((-0.01) *(pow((-0.5518380510314974 - x),2)+ pow((1.3760495391049103 - y),2)+ pow((-1.3982390581614135 - z),2))) + (0.1) * exp((-0.01) *(pow((-0.48673517687083834 - x),2)+ pow((1.4111566300578906 - y),2)+ pow((-1.3982390581614135 - z),2))) + (0.1) * exp((-0.01) *(pow((-0.4166243893132059 - x),2)+ pow((1.4489642664687927 - y),2)+ pow((-1.3982390581614135 - z),2))) + (0.1) * exp((-0.01) *(pow((-0.394088779026824 - x),2)+ pow((1.46111672102944 - y),2)+ pow((-1.3982390581614135 - z),2))) + (0.1) * exp((-0.01) *(pow((-0.34901755845406013 - x),2)+ pow((1.4786702665059295 - y),2)+ pow((-1.3982390581614135 - z),2))) + (0.1) * exp((-0.01) *(pow((-0.32397799146919154 - x),2)+ pow((1.4786702665059295 - y),2)+ pow((-1.3982390581614135 - z),2))) + (0.1) * exp((-0.01) *(pow((-0.5393182675390623 - x),2)+ pow((1.3828009027497146 - y),2)+ pow((-1.3982390581614135 - z),2))) + (0.1) * exp((-0.01) *(pow((-0.5167826572526811 - x),2)+ pow((1.394953357310362 - y),2)+ pow((-1.3982390581614135 - z),2))) + (0.1) * exp((-0.01) *(pow((-0.5618538778254442 - x),2)+ pow((1.3706484481890684 - y),2)+ pow((-1.3982390581614135 - z),2))) + (0.1) * exp((-0.01) *(pow((-0.5493340943330098 - x),2)+ pow((1.3773998118338713 - y),2)+ pow((-1.3982390581614135 - z),2))) + (0.1) * exp((-0.01) *(pow((-0.32397799146919154 - x),2)+ pow((1.4786702665059295 - y),2)+ pow((-1.3982390581614135 - z),2))) + (0.1) * exp((-0.01) *(pow((-0.5067668304587336 - x),2)+ pow((1.4003544482262054 - y),2)+ pow((-1.3982390581614135 - z),2))) + (0.1) * exp((-0.01) *(pow((-0.33148986156465243 - x),2)+ pow((1.4786702665059295 - y),2)+ pow((-1.3982390581614135 - z),2))) + (0.1) * exp((-0.01) *(pow((-0.496751003664786 - x),2)+ pow((1.4057555391420486 - y),2)+ pow((-1.3982390581614135 - z),2))) + (0.1) * exp((-0.01) *(pow((0.9397234277717074 - x),2)+ pow((-1.475726464460251 - y),2)+ pow((0.7151852854939772 - z),2))) + (0.1) * exp((-0.01) *(pow((0.9021640772944044 - x),2)+ pow((-1.535138464534525 - y),2)+ pow((0.7151852854939772 - z),2))) + (0.1) * exp((-0.01) *(pow((1.5611599538507228 - x),2)+ pow((-0.4927279177768048 - y),2)+ pow((0.7151852854939772 - z),2))) + (0.1) * exp((-0.01) *(pow((1.4518963888258407 - x),2)+ pow((-0.6655628270837844 - y),2)+ pow((0.7151852854939772 - z),2))) + (0.1) * exp((-0.01) *(pow((0.9806972646560379 - x),2)+ pow((-1.4109133734701338 - y),2)+ pow((0.7151852854939772 - z),2))) + (0.1) * exp((-0.01) *(pow((0.908993050108459 - x),2)+ pow((-1.5243362827028395 - y),2)+ pow((0.7151852854939772 - z),2))) + (0.1) * exp((-0.01) *(pow((1.3614124990396104 - x),2)+ pow((-0.8086917363536272 - y),2)+ pow((0.7151852854939772 - z),2))) + (0.1) * exp((-0.01) *(pow((1.1206912073441675 - x),2)+ pow((-1.1894686459205668 - y),2)+ pow((0.7151852854939772 - z),2))) + (0.1) * exp((-0.01) *(pow((1.3955573631098865 - x),2)+ pow((-0.7546808271951954 - y),2)+ pow((0.7151852854939772 - z),2))) + (0.1) * exp((-0.01) *(pow((1.4587253616398963 - x),2)+ pow((-0.6547606452520979 - y),2)+ pow((0.7151852854939772 - z),2))) + (0.1) * exp((-0.01) *(pow((1.65505833004398 - x),2)+ pow((-0.34419791759112006 - y),2)+ pow((0.7151852854939772 - z),2))) + (0.1) * exp((-0.01) *(pow((1.279464825270949 - x),2)+ pow((-0.9383179183338617 - y),2)+ pow((0.7151852854939772 - z),2))) + (0.1) * exp((-0.01) *(pow((1.0097203991157724 - x),2)+ pow((-1.365004100685467 - y),2)+ pow((0.7151852854939772 - z),2))) + (0.1) * exp((-0.01) *(pow((1.3597052558360965 - x),2)+ pow((-0.8113922818115489 - y),2)+ pow((0.7151852854939772 - z),2))) + (0.1) * exp((-0.01) *(pow((1.4553108752328685 - x),2)+ pow((-0.6601617361679412 - y),2)+ pow((0.7151852854939772 - z),2))) + (0.1) * exp((-0.01) *(pow((1.0711811544422685 - x),2)+ pow((-1.2677844642002911 - y),2)+ pow((0.7151852854939772 - z),2))) + (0.1) * exp((-0.01) *(pow((1.5679889266647773 - x),2)+ pow((-0.48192573594511945 - y),2)+ pow((0.7151852854939772 - z),2))) + (0.1) * exp((-0.01) *(pow((1.3255603917658212 - x),2)+ pow((-0.8654031909699794 - y),2)+ pow((0.7151852854939772 - z),2))) + (0.1) * exp((-0.01) *(pow((1.1155694777336267 - x),2)+ pow((-1.1975702822943306 - y),2)+ pow((0.7151852854939772 - z),2))) + (0.1) * exp((-0.01) *(pow((1.0933753160879476 - x),2)+ pow((-1.2326773732473109 - y),2)+ pow((0.7151852854939772 - z),2))) + (0.1) * exp((-0.01) *(pow((0.9721610486384687 - x),2)+ pow((-1.424416100759742 - y),2)+ pow((0.7151852854939772 - z),2))) + (0.1) * exp((-0.01) *(pow((1.219711313147967 - x),2)+ pow((-1.0328370093611159 - y),2)+ pow((0.7151852854939772 - z),2))) + (0.1) * exp((-0.01) *(pow((1.0216711015403686 - x),2)+ pow((-1.3461002824800166 - y),2)+ pow((0.7151852854939772 - z),2))) + (0.1) * exp((-0.01) *(pow((1.076302884052809 - x),2)+ pow((-1.2596828278265273 - y),2)+ pow((0.7151852854939772 - z),2))) + (0.1) * exp((-0.01) *(pow((1.351169039818528 - x),2)+ pow((-0.8248950091011559 - y),2)+ pow((0.7151852854939772 - z),2))) + (0.1) * exp((-0.01) *(pow((1.3119024461377105 - x),2)+ pow((-0.8870075546333527 - y),2)+ pow((0.7151852854939772 - z),2))) + (0.1) * exp((-0.01) *(pow((1.5184788737628783 - x),2)+ pow((-0.5602415542248437 - y),2)+ pow((0.7151852854939772 - z),2))) + (0.1) * exp((-0.01) *(pow((1.2180040699444532 - x),2)+ pow((-1.0355375548190375 - y),2)+ pow((0.7151852854939772 - z),2))) + (0.1) * exp((-0.01) *(pow((1.5748178994788327 - x),2)+ pow((-0.4711235541134328 - y),2)+ pow((0.7151852854939772 - z),2))) + (0.1) * exp((-0.01) *(pow((1.436531199994217 - x),2)+ pow((-0.6898677362050781 - y),2)+ pow((0.7151852854939772 - z),2))) + (0.1) * exp((-0.01) *(pow((1.4775050368785476 - x),2)+ pow((-0.6250546452149609 - y),2)+ pow((0.7151852854939772 - z),2))) + (0.1) * exp((-0.01) *(pow((1.497991955320713 - x),2)+ pow((-0.5926480997199023 - y),2)+ pow((0.7151852854939772 - z),2))) + (0.1) * exp((-0.01) *(pow((1.4075080655344825 - x),2)+ pow((-0.7357770089897451 - y),2)+ pow((0.7151852854939772 - z),2))) + (0.1) * exp((-0.01) *(pow((1.3392183373939313 - x),2)+ pow((-0.8437988273066075 - y),2)+ pow((0.7151852854939772 - z),2))) + (0.1) * exp((-0.01) *(pow((0.9533813733998173 - x),2)+ pow((-1.454122100796879 - y),2)+ pow((0.7151852854939772 - z),2))) + (0.1) * exp((-0.01) *(pow((1.5935975747174842 - x),2)+ pow((-0.4414175540762959 - y),2)+ pow((0.7151852854939772 - z),2))) + (0.1) * exp((-0.01) *(pow((1.4894557393031438 - x),2)+ pow((-0.6061508270095106 - y),2)+ pow((0.7151852854939772 - z),2))) + (0.1) * exp((-0.01) *(pow((1.0319145607614517 - x),2)+ pow((-1.3298970097324867 - y),2)+ pow((0.7151852854939772 - z),2))) + (0.1) * exp((-0.01) *(pow((1.3221459053587936 - x),2)+ pow((-0.8708042818858228 - y),2)+ pow((0.7151852854939772 - z),2))) + (0.1) * exp((-0.01) *(pow((1.25727066362527 - x),2)+ pow((-0.973425009286842 - y),2)+ pow((0.7151852854939772 - z),2))) + (0.1) * exp((-0.01) *(pow((1.1667867738390396 - x),2)+ pow((-1.1165539185566846 - y),2)+ pow((0.7151852854939772 - z),2))) + (0.1) * exp((-0.01) *(pow((1.233369258776077 - x),2)+ pow((-1.0112326456977438 - y),2)+ pow((0.7151852854939772 - z),2))) + (0.1) * exp((-0.01) *(pow((0.9124075365154867 - x),2)+ pow((-1.5189351917869962 - y),2)+ pow((0.7151852854939772 - z),2))) + (0.1) * exp((-0.01) *(pow((1.1941026650952602 - x),2)+ pow((-1.0733451912299394 - y),2)+ pow((0.7151852854939772 - z),2))) + (0.1) * exp((-0.01) *(pow((0.9602103462138727 - x),2)+ pow((-1.4433199189651924 - y),2)+ pow((0.7151852854939772 - z),2))) + (0.1) * exp((-0.01) *(pow((1.3426328238009588 - x),2)+ pow((-0.8383977363907642 - y),2)+ pow((0.7151852854939772 - z),2))) + (0.1) * exp((-0.01) *(pow((1.6584728164510076 - x),2)+ pow((-0.3387968266752767 - y),2)+ pow((0.7151852854939772 - z),2))) + (0.1) * exp((-0.01) *(pow((1.4314094703836755 - x),2)+ pow((-0.6979693725788431 - y),2)+ pow((0.7151852854939772 - z),2))) + (0.1) * exp((-0.01) *(pow((1.388728390295831 - x),2)+ pow((-0.7654830090268819 - y),2)+ pow((0.7151852854939772 - z),2))) + (0.1) * exp((-0.01) *(pow((1.4672615776574647 - x),2)+ pow((-0.6412579179624909 - y),2)+ pow((0.7151852854939772 - z),2))) + (0.1) * exp((-0.01) *(pow((1.052401479203617 - x),2)+ pow((-1.297490464237428 - y),2)+ pow((0.7151852854939772 - z),2))) + (0.1) * exp((-0.01) *(pow((0.9619175894173865 - x),2)+ pow((-1.4406193735072708 - y),2)+ pow((0.7151852854939772 - z),2))) + (0.1) * exp((-0.01) *(pow((1.0114276423192863 - x),2)+ pow((-1.3623035552275453 - y),2)+ pow((0.7151852854939772 - z),2))) + (0.1) * exp((-0.01) *(pow((1.3204386621552797 - x),2)+ pow((-0.8735048273437445 - y),2)+ pow((0.7151852854939772 - z),2))) + (0.1) * exp((-0.01) *(pow((1.002891426301717 - x),2)+ pow((-1.3758062825171535 - y),2)+ pow((0.7151852854939772 - z),2))) + (0.1) * exp((-0.01) *(pow((0.9055785637014313 - x),2)+ pow((-1.5297373736186828 - y),2)+ pow((0.7151852854939772 - z),2))) + (0.1) * exp((-0.01) *(pow((1.159957801024985 - x),2)+ pow((-1.12735610038837 - y),2)+ pow((0.7151852854939772 - z),2))) + (0.1) * exp((-0.01) *(pow((1.004598669505231 - x),2)+ pow((-1.373105737059232 - y),2)+ pow((0.7151852854939772 - z),2))) + (0.1) * exp((-0.01) *(pow((1.3375110941904174 - x),2)+ pow((-0.8464993727645291 - y),2)+ pow((0.7151852854939772 - z),2))) + (0.1) * exp((-0.01) *(pow((1.4382384431977309 - x),2)+ pow((-0.6871671907471565 - y),2)+ pow((0.7151852854939772 - z),2))) + (0.1) * exp((-0.01) *(pow((1.5526237378331535 - x),2)+ pow((-0.5062306450664131 - y),2)+ pow((0.7151852854939772 - z),2))) + (0.1) * exp((-0.01) *(pow((1.24361271799716 - x),2)+ pow((-0.9950293729502139 - y),2)+ pow((0.7151852854939772 - z),2))) + (0.1) * exp((-0.01) *(pow((0.8782626724452114 - x),2)+ pow((-1.5729461009454269 - y),2)+ pow((0.7151852854939772 - z),2))) + (0.1) * exp((-0.01) *(pow((0.8919206180733213 - x),2)+ pow((-1.5513417372820548 - y),2)+ pow((0.7151852854939772 - z),2))) + (0.1) * exp((-0.01) *(pow((1.629449681991274 - x),2)+ pow((-0.38470609945994233 - y),2)+ pow((0.7151852854939772 - z),2))) + (0.1) * exp((-0.01) *(pow((0.9516741301963034 - x),2)+ pow((-1.4568226462548006 - y),2)+ pow((0.7151852854939772 - z),2))) + (0.1) * exp((-0.01) *(pow((0.8902133748698076 - x),2)+ pow((-1.5540422827399765 - y),2)+ pow((0.7151852854939772 - z),2))) + (0.1) * exp((-0.01) *(pow((1.050694236000103 - x),2)+ pow((-1.3001910096953497 - y),2)+ pow((0.7151852854939772 - z),2))) + (0.1) * exp((-0.01) *(pow((1.328974878172849 - x),2)+ pow((-0.8600021000541361 - y),2)+ pow((0.7151852854939772 - z),2))) + (0.1) * exp((-0.01) *(pow((0.9755755350454964 - x),2)+ pow((-1.4190150098438987 - y),2)+ pow((0.7151852854939772 - z),2))) + (0.1) * exp((-0.01) *(pow((1.247027204404187 - x),2)+ pow((-0.9896282820343718 - y),2)+ pow((0.7151852854939772 - z),2))) + (0.1) * exp((-0.01) *(pow((1.6499366004334393 - x),2)+ pow((-0.35229955396488377 - y),2)+ pow((0.7151852854939772 - z),2))) + (0.1) * exp((-0.01) *(pow((1.2282475291655355 - x),2)+ pow((-1.0193342820715088 - y),2)+ pow((0.7151852854939772 - z),2))) + (0.1) * exp((-0.01) *(pow((1.4211660111625926 - x),2)+ pow((-0.714172645326373 - y),2)+ pow((0.7151852854939772 - z),2))) + (0.1) * exp((-0.01) *(pow((1.136056396175792 - x),2)+ pow((-1.165163736799272 - y),2)+ pow((0.7151852854939772 - z),2))) + (0.1) * exp((-0.01) *(pow((1.0080131559122587 - x),2)+ pow((-1.3677046461433886 - y),2)+ pow((0.7151852854939772 - z),2))) + (0.1) * exp((-0.01) *(pow((1.5645744402577504 - x),2)+ pow((-0.4873268268609615 - y),2)+ pow((0.7151852854939772 - z),2))) + (0.1) * exp((-0.01) *(pow((1.0353290471684784 - x),2)+ pow((-1.3244959188166445 - y),2)+ pow((0.7151852854939772 - z),2))) + (0.1) * exp((-0.01) *(pow((1.5287223329839605 - x),2)+ pow((-0.544038281477315 - y),2)+ pow((0.7151852854939772 - z),2))) + (0.1) * exp((-0.01) *(pow((1.2982445005096006 - x),2)+ pow((-0.9086119182967247 - y),2)+ pow((0.7151852854939772 - z),2))) + (0.1) * exp((-0.01) *(pow((1.6362786548053285 - x),2)+ pow((-0.37390391762825703 - y),2)+ pow((0.7151852854939772 - z),2))) + (0.1) * exp((-0.01) *(pow((1.124105693751195 - x),2)+ pow((-1.1840675550047235 - y),2)+ pow((0.7151852854939772 - z),2))) + (0.1) * exp((-0.01) *(pow((1.3870211470923173 - x),2)+ pow((-0.7681835544848036 - y),2)+ pow((0.7151852854939772 - z),2))) + (0.1) * exp((-0.01) *(pow((1.6038410339385671 - x),2)+ pow((-0.42521428132876593 - y),2)+ pow((0.7151852854939772 - z),2))) + (0.1) * exp((-0.01) *(pow((1.4928702257101714 - x),2)+ pow((-0.6007497360936672 - y),2)+ pow((0.7151852854939772 - z),2))) + (0.1) * exp((-0.01) *(pow((0.9670393190279281 - x),2)+ pow((-1.4325177371335058 - y),2)+ pow((0.7151852854939772 - z),2))) + (0.1) * exp((-0.01) *(pow((1.1906881786882326 - x),2)+ pow((-1.0787462821457827 - y),2)+ pow((0.7151852854939772 - z),2))) + (0.1) * exp((-0.01) *(pow((1.4348239567907033 - x),2)+ pow((-0.6925682816629998 - y),2)+ pow((0.7151852854939772 - z),2))) + (0.1) * exp((-0.01) *(pow((1.2589779068287839 - x),2)+ pow((-0.9707244638289203 - y),2)+ pow((0.7151852854939772 - z),2))) + (0.1) * exp((-0.01) *(pow((1.0848391000703783 - x),2)+ pow((-1.246180100536919 - y),2)+ pow((0.7151852854939772 - z),2))) + (0.1) * exp((-0.01) *(pow((1.2538561772182424 - x),2)+ pow((-0.9788261002026852 - y),2)+ pow((0.7151852854939772 - z),2))) + (0.1) * exp((-0.01) *(pow((1.4843340096926023 - x),2)+ pow((-0.6142524633832755 - y),2)+ pow((0.7151852854939772 - z),2))) + (0.1) * exp((-0.01) *(pow((0.885091645259266 - x),2)+ pow((-1.5621439191137414 - y),2)+ pow((0.7151852854939772 - z),2))) + (0.1) * exp((-0.01) *(pow((1.5014064417277406 - x),2)+ pow((-0.587247008804059 - y),2)+ pow((0.7151852854939772 - z),2))) + (0.1) * exp((-0.01) *(pow((1.4297022271801616 - x),2)+ pow((-0.7006699180367647 - y),2)+ pow((0.7151852854939772 - z),2))) + (0.1) * exp((-0.01) *(pow((1.2009316379093156 - x),2)+ pow((-1.0625430093982529 - y),2)+ pow((0.7151852854939772 - z),2))) + (0.1) * exp((-0.01) *(pow((1.0916680728844337 - x),2)+ pow((-1.2353779187052325 - y),2)+ pow((0.7151852854939772 - z),2))) + (0.1) * exp((-0.01) *(pow((1.3579980126325828 - x),2)+ pow((-0.8140928272694705 - y),2)+ pow((0.7151852854939772 - z),2))) + (0.1) * exp((-0.01) *(pow((1.1582505578214712 - x),2)+ pow((-1.1300566458462917 - y),2)+ pow((0.7151852854939772 - z),2))) + (0.1) * exp((-0.01) *(pow((1.0199638583368547 - x),2)+ pow((-1.3488008279379382 - y),2)+ pow((0.7151852854939772 - z),2))) + (0.1) * exp((-0.01) *(pow((0.9448451573822488 - x),2)+ pow((-1.467624828086486 - y),2)+ pow((0.7151852854939772 - z),2))) + (0.1) * exp((-0.01) *(pow((0.9004568340908906 - x),2)+ pow((-1.5378390099924466 - y),2)+ pow((0.7151852854939772 - z),2))) + (0.1) * exp((-0.01) *(pow((0.919236509329542 - x),2)+ pow((-1.5081330099553096 - y),2)+ pow((0.7151852854939772 - z),2))) + (0.1) * exp((-0.01) *(pow((1.0558159656106438 - x),2)+ pow((-1.292089373321586 - y),2)+ pow((0.7151852854939772 - z),2))) + (0.1) * exp((-0.01) *(pow((1.2845865548814908 - x),2)+ pow((-0.9302162819600966 - y),2)+ pow((0.7151852854939772 - z),2))) + (0.1) * exp((-0.01) *(pow((0.9738682918419825 - x),2)+ pow((-1.4217155553018204 - y),2)+ pow((0.7151852854939772 - z),2))) + (0.1) * exp((-0.01) *(pow((1.1189839641406536 - x),2)+ pow((-1.1921691913784884 - y),2)+ pow((0.7151852854939772 - z),2))) + (0.1) * exp((-0.01) *(pow((0.9772827782490102 - x),2)+ pow((-1.416314464385977 - y),2)+ pow((0.7151852854939772 - z),2))) + (0.1) * exp((-0.01) *(pow((1.2111750971303978 - x),2)+ pow((-1.046339736650724 - y),2)+ pow((0.7151852854939772 - z),2))) + (0.1) * exp((-0.01) *(pow((0.9824045078595518 - x),2)+ pow((-1.4082128280122121 - y),2)+ pow((0.7151852854939772 - z),2))) + (0.1) * exp((-0.01) *(pow((1.5628671970542365 - x),2)+ pow((-0.49002737231888316 - y),2)+ pow((0.7151852854939772 - z),2))) + (0.1) * exp((-0.01) *(pow((1.5167716305593644 - x),2)+ pow((-0.5629420996827653 - y),2)+ pow((0.7151852854939772 - z),2))) + (0.1) * exp((-0.01) *(pow((0.9243582389400835 - x),2)+ pow((-1.5000313735815447 - y),2)+ pow((0.7151852854939772 - z),2))) + (0.1) * exp((-0.01) *(pow((1.2060533675198564 - x),2)+ pow((-1.054441373024489 - y),2)+ pow((0.7151852854939772 - z),2))) + (0.1) * exp((-0.01) *(pow((1.0814246136633507 - x),2)+ pow((-1.2515811914527624 - y),2)+ pow((0.7151852854939772 - z),2))) + (0.1) * exp((-0.01) *(pow((1.605548277142081 - x),2)+ pow((-0.4225137358708443 - y),2)+ pow((0.7151852854939772 - z),2))) + (0.1) * exp((-0.01) *(pow((1.185566449077691 - x),2)+ pow((-1.0868479185195477 - y),2)+ pow((0.7151852854939772 - z),2))) + (0.1) * exp((-0.01) *(pow((1.583354115496402 - x),2)+ pow((-0.45762082682382454 - y),2)+ pow((0.7151852854939772 - z),2))) + (0.1) * exp((-0.01) *(pow((1.0302073175579378 - x),2)+ pow((-1.3325975551904083 - y),2)+ pow((0.7151852854939772 - z),2))) + (0.1) * exp((-0.01) *(pow((1.2743430956604076 - x),2)+ pow((-0.9464195547076266 - y),2)+ pow((0.7151852854939772 - z),2))) + (0.1) * exp((-0.01) *(pow((1.6465221140264117 - x),2)+ pow((-0.35770064488072706 - y),2)+ pow((0.7151852854939772 - z),2))) + (0.1) * exp((-0.01) *(pow((1.0148421287263132 - x),2)+ pow((-1.3569024643117031 - y),2)+ pow((0.7151852854939772 - z),2))) + (0.1) * exp((-0.01) *(pow((1.631156925194787 - x),2)+ pow((-0.38200555400202196 - y),2)+ pow((0.7151852854939772 - z),2))) + (0.06009526868116874) * exp((-0.01) *(pow((1.3101952029341974 - x),2)+ pow((-0.8897081000912731 - y),2)+ pow((0.7151852854939772 - z),2))) + (0.1) * exp((-0.01) *(pow((1.4723833072680061 - x),2)+ pow((-0.6331562815887258 - y),2)+ pow((0.7151852854939772 - z),2))) + (0.1) * exp((-0.01) *(pow((1.2675141228463531 - x),2)+ pow((-0.957221736539312 - y),2)+ pow((0.7151852854939772 - z),2))) + (0.1) * exp((-0.01) *(pow((0.8987495908873767 - x),2)+ pow((-1.5405395554503682 - y),2)+ pow((0.7151852854939772 - z),2))) + (0.1) * exp((-0.01) *(pow((1.0063059127087448 - x),2)+ pow((-1.3704051916013102 - y),2)+ pow((0.7151852854939772 - z),2))) + (0.1) * exp((-0.01) *(pow((1.607255520345595 - x),2)+ pow((-0.41981319041292264 - y),2)+ pow((0.7151852854939772 - z),2))) + (0.1) * exp((-0.01) *(pow((1.4809195232855754 - x),2)+ pow((-0.6196535542991176 - y),2)+ pow((0.7151852854939772 - z),2))) + (0.1) * exp((-0.01) *(pow((1.559452710647209 - x),2)+ pow((-0.49542846323472645 - y),2)+ pow((0.7151852854939772 - z),2))) + (0.1) * exp((-0.01) *(pow((1.5799396290893741 - x),2)+ pow((-0.4630219177396679 - y),2)+ pow((0.7151852854939772 - z),2))) + (0.1) * exp((-0.01) *(pow((0.9380161845681935 - x),2)+ pow((-1.4784270099181727 - y),2)+ pow((0.7151852854939772 - z),2))) + (0.1) * exp((-0.01) *(pow((1.378484931074748 - x),2)+ pow((-0.7816862817744119 - y),2)+ pow((0.7151852854939772 - z),2))) + (0.1) * exp((-0.01) *(pow((1.1223984505476812 - x),2)+ pow((-1.1867681004626451 - y),2)+ pow((0.7151852854939772 - z),2))) + (0.1) * exp((-0.01) *(pow((1.5884758451069425 - x),2)+ pow((-0.44951919045006083 - y),2)+ pow((0.7151852854939772 - z),2))) + (0.1) * exp((-0.01) *(pow((1.101911532105516 - x),2)+ pow((-1.2191746459577038 - y),2)+ pow((0.7151852854939772 - z),2))) + (0.1) * exp((-0.01) *(pow((1.6260351955842463 - x),2)+ pow((-0.3901071903757857 - y),2)+ pow((0.7151852854939772 - z),2))) + (0.1) * exp((-0.01) *(pow((1.294830014102573 - x),2)+ pow((-0.914013009212568 - y),2)+ pow((0.7151852854939772 - z),2))) + (0.1) * exp((-0.01) *(pow((0.9789900214525241 - x),2)+ pow((-1.4136139189280554 - y),2)+ pow((0.7151852854939772 - z),2))) + (0.1) * exp((-0.01) *(pow((1.2248330427585086 - x),2)+ pow((-1.024735372987351 - y),2)+ pow((0.7151852854939772 - z),2))) + (0.1) * exp((-0.01) *(pow((1.1070332617160574 - x),2)+ pow((-1.2110730095839388 - y),2)+ pow((0.7151852854939772 - z),2))) + (0.1) * exp((-0.01) *(pow((1.2350765019795908 - x),2)+ pow((-1.0085321002398222 - y),2)+ pow((0.7151852854939772 - z),2))) + (0.1) * exp((-0.01) *(pow((1.6174989795666772 - x),2)+ pow((-0.40360991766539395 - y),2)+ pow((0.7151852854939772 - z),2))) + (0.1) * exp((-0.01) *(pow((1.5048209281347675 - x),2)+ pow((-0.5818459178882169 - y),2)+ pow((0.7151852854939772 - z),2))) + (0.1) * exp((-0.01) *(pow((1.5731106562753188 - x),2)+ pow((-0.4738240995713545 - y),2)+ pow((0.7151852854939772 - z),2))) + (0.1) * exp((-0.01) *(pow((1.6345714116018148 - x),2)+ pow((-0.3766044630861787 - y),2)+ pow((0.7151852854939772 - z),2))) + (0.1) * exp((-0.01) *(pow((1.1104477481230852 - x),2)+ pow((-1.2056719186680955 - y),2)+ pow((0.7151852854939772 - z),2))) + (0.1) * exp((-0.01) *(pow((1.352876283022042 - x),2)+ pow((-0.8221944636432342 - y),2)+ pow((0.7151852854939772 - z),2))) + (0.1) * exp((-0.01) *(pow((1.6448148708228978 - x),2)+ pow((-0.3604011903386487 - y),2)+ pow((0.7151852854939772 - z),2))) + (0.1) * exp((-0.01) *(pow((1.4689688208609784 - x),2)+ pow((-0.6385573725045692 - y),2)+ pow((0.7151852854939772 - z),2))) + (0.1) * exp((-0.01) *(pow((1.4911629825066577 - x),2)+ pow((-0.603450281551589 - y),2)+ pow((0.7151852854939772 - z),2))) + (0.1) * exp((-0.01) *(pow((0.9482596437892757 - x),2)+ pow((-1.462223737170644 - y),2)+ pow((0.7151852854939772 - z),2))) + (0.1) * exp((-0.01) *(pow((1.2504416908112146 - x),2)+ pow((-0.9842271911185285 - y),2)+ pow((0.7151852854939772 - z),2))) + (0.1) * exp((-0.01) *(pow((1.3340966077833898 - x),2)+ pow((-0.8519004636803724 - y),2)+ pow((0.7151852854939772 - z),2))) + (0.1) * exp((-0.01) *(pow((1.2606851500322978 - x),2)+ pow((-0.9680239183709985 - y),2)+ pow((0.7151852854939772 - z),2))) + (0.1) * exp((-0.01) *(pow((1.581646872292888 - x),2)+ pow((-0.4603213722817462 - y),2)+ pow((0.7151852854939772 - z),2))) + (0.1) * exp((-0.01) *(pow((1.4433601728082717 - x),2)+ pow((-0.6790655543733928 - y),2)+ pow((0.7151852854939772 - z),2))) + (0.1) * exp((-0.01) *(pow((0.9277727253471104 - x),2)+ pow((-1.4946302826657025 - y),2)+ pow((0.7151852854939772 - z),2))) + (0.1) * exp((-0.01) *(pow((0.9858189942665795 - x),2)+ pow((-1.4028117370963689 - y),2)+ pow((0.7151852854939772 - z),2))) + (0.1) * exp((-0.01) *(pow((1.27092860925338 - x),2)+ pow((-0.9518206456234699 - y),2)+ pow((0.7151852854939772 - z),2))) + (0.1) * exp((-0.01) *(pow((0.9209437525330558 - x),2)+ pow((-1.505432464497388 - y),2)+ pow((0.7151852854939772 - z),2))) + (0.1) * exp((-0.01) *(pow((1.3443400670044727 - x),2)+ pow((-0.8356971909328426 - y),2)+ pow((0.7151852854939772 - z),2))) + (0.1) * exp((-0.01) *(pow((1.0677666680352407 - x),2)+ pow((-1.2731855551161344 - y),2)+ pow((0.7151852854939772 - z),2))) + (0.1) * exp((-0.01) *(pow((1.0967898024949752 - x),2)+ pow((-1.2272762823314676 - y),2)+ pow((0.7151852854939772 - z),2))) + (0.1) * exp((-0.01) *(pow((1.3306821213763629 - x),2)+ pow((-0.8573015545962145 - y),2)+ pow((0.7151852854939772 - z),2))) + (0.1) * exp((-0.01) *(pow((1.4962847121171992 - x),2)+ pow((-0.5953486451778239 - y),2)+ pow((0.7151852854939772 - z),2))) + (0.1) * exp((-0.01) *(pow((1.6379858980088424 - x),2)+ pow((-0.37120337217033533 - y),2)+ pow((0.7151852854939772 - z),2))) + (0.1) * exp((-0.01) *(pow((0.9892334806736072 - x),2)+ pow((-1.3974106461805256 - y),2)+ pow((0.7151852854939772 - z),2))) + (0.1) * exp((-0.01) *(pow((1.332389364579876 - x),2)+ pow((-0.8546010091382941 - y),2)+ pow((0.7151852854939772 - z),2))) + (0.1) * exp((-0.01) *(pow((1.1514215850074159 - x),2)+ pow((-1.1408588276779783 - y),2)+ pow((0.7151852854939772 - z),2))) + (0.1) * exp((-0.01) *(pow((1.100204288902002 - x),2)+ pow((-1.2218751914156254 - y),2)+ pow((0.7151852854939772 - z),2))) + (0.1) * exp((-0.01) *(pow((1.5389657922050435 - x),2)+ pow((-0.5278350087297851 - y),2)+ pow((0.7151852854939772 - z),2))) + (0.1) * exp((-0.01) *(pow((1.3767776878712341 - x),2)+ pow((-0.7843868272323335 - y),2)+ pow((0.7151852854939772 - z),2))) + (0.1) * exp((-0.01) *(pow((1.6106700067526218 - x),2)+ pow((-0.4144120994970806 - y),2)+ pow((0.7151852854939772 - z),2))) + (0.1) * exp((-0.01) *(pow((1.4757977936750337 - x),2)+ pow((-0.6277551906728825 - y),2)+ pow((0.7151852854939772 - z),2))) + (0.1) * exp((-0.01) *(pow((1.1923954218917463 - x),2)+ pow((-1.076045736687861 - y),2)+ pow((0.7151852854939772 - z),2))) + (0.030374689299750977) * exp((-0.01) *(pow((1.3460473102079866 - x),2)+ pow((-0.8329966454749208 - y),2)+ pow((0.7151852854939772 - z),2))) + (0.1) * exp((-0.01) *(pow((1.6089627635491086 - x),2)+ pow((-0.41711264495500094 - y),2)+ pow((0.7151852854939772 - z),2))) + (0.1) * exp((-0.01) *(pow((1.2316620155725633 - x),2)+ pow((-1.0139331911556655 - y),2)+ pow((0.7151852854939772 - z),2))) + (0.1) * exp((-0.01) *(pow((1.1138622345301128 - x),2)+ pow((-1.2002708277522522 - y),2)+ pow((0.7151852854939772 - z),2))) + (0.1) * exp((-0.01) *(pow((1.643107627619384 - x),2)+ pow((-0.3631017357965704 - y),2)+ pow((0.7151852854939772 - z),2))) + (0.1) * exp((-0.01) *(pow((1.0660594248317268 - x),2)+ pow((-1.275886100574056 - y),2)+ pow((0.7151852854939772 - z),2))) + (0.1) * exp((-0.01) *(pow((1.427994983976648 - x),2)+ pow((-0.7033704634946865 - y),2)+ pow((0.7151852854939772 - z),2))) + (0.1) * exp((-0.01) *(pow((1.521893360169906 - x),2)+ pow((-0.5548404633090004 - y),2)+ pow((0.7151852854939772 - z),2))) + (0.1) * exp((-0.01) *(pow((0.9943552102841479 - x),2)+ pow((-1.3893090098067618 - y),2)+ pow((0.7151852854939772 - z),2))) + (0.1) * exp((-0.01) *(pow((1.04045077677902 - x),2)+ pow((-1.3163942824428796 - y),2)+ pow((0.7151852854939772 - z),2))) + (0.1) * exp((-0.01) *(pow((0.8970423476838629 - x),2)+ pow((-1.54324010090829 - y),2)+ pow((0.7151852854939772 - z),2))) + (0.1) * exp((-0.01) *(pow((1.356290769429069 - x),2)+ pow((-0.8167933727273922 - y),2)+ pow((0.7151852854939772 - z),2))) + (0.1) * exp((-0.01) *(pow((1.4484819024188131 - x),2)+ pow((-0.6709639179996278 - y),2)+ pow((0.7151852854939772 - z),2))) + (0.1) * exp((-0.01) *(pow((1.6157917363631633 - x),2)+ pow((-0.4063104631233156 - y),2)+ pow((0.7151852854939772 - z),2))) + (0.1) * exp((-0.01) *(pow((1.4536036320293546 - x),2)+ pow((-0.6628622816258628 - y),2)+ pow((0.7151852854939772 - z),2))) + (0.1) * exp((-0.01) *(pow((0.871433699631156 - x),2)+ pow((-1.5837482827771134 - y),2)+ pow((0.7151852854939772 - z),2))) + (0.1) * exp((-0.01) *(pow((1.354583526225555 - x),2)+ pow((-0.8194939181853138 - y),2)+ pow((0.7151852854939772 - z),2))) + (0.1) * exp((-0.01) *(pow((0.9585031030103588 - x),2)+ pow((-1.446020464423114 - y),2)+ pow((0.7151852854939772 - z),2))) + (0.1) * exp((-0.01) *(pow((1.404093579127455 - x),2)+ pow((-0.7411780999055884 - y),2)+ pow((0.7151852854939772 - z),2))) + (0.1) * exp((-0.01) *(pow((1.4058008223309686 - x),2)+ pow((-0.7384775544476667 - y),2)+ pow((0.7151852854939772 - z),2))) + (0.1) * exp((-0.01) *(pow((0.9346016981611658 - x),2)+ pow((-1.483828100834016 - y),2)+ pow((0.7151852854939772 - z),2))) + (0.1) * exp((-0.01) *(pow((0.8765554292416976 - x),2)+ pow((-1.5756466464033485 - y),2)+ pow((0.7151852854939772 - z),2))) + (0.1) * exp((-0.01) *(pow((1.4638470912504369 - x),2)+ pow((-0.6466590088783342 - y),2)+ pow((0.7151852854939772 - z),2))) + (0.1) * exp((-0.01) *(pow((1.667009032468577 - x),2)+ pow((-0.32529409938566844 - y),2)+ pow((0.7151852854939772 - z),2))) + (0.1) * exp((-0.01) *(pow((1.3477545534115005 - x),2)+ pow((-0.8302961000169992 - y),2)+ pow((0.7151852854939772 - z),2))) + (0.1) * exp((-0.01) *(pow((1.557745467443695 - x),2)+ pow((-0.49812900869264815 - y),2)+ pow((0.7151852854939772 - z),2))) + (0.1) * exp((-0.01) *(pow((1.3972646063133995 - x),2)+ pow((-0.7519802817372749 - y),2)+ pow((0.7151852854939772 - z),2))) + (0.1) * exp((-0.01) *(pow((1.018256615133341 - x),2)+ pow((-1.3515013733958599 - y),2)+ pow((0.7151852854939772 - z),2))) + (0.1) * exp((-0.01) *(pow((0.9072858069049451 - x),2)+ pow((-1.5270368281607611 - y),2)+ pow((0.7151852854939772 - z),2))) + (0.1) * exp((-0.01) *(pow((1.1172767209371406 - x),2)+ pow((-1.194869736836409 - y),2)+ pow((0.7151852854939772 - z),2))) + (0.1) * exp((-0.01) *(pow((1.2658068796428392 - x),2)+ pow((-0.9599222819972336 - y),2)+ pow((0.7151852854939772 - z),2))) + (0.1) * exp((-0.01) *(pow((0.9141147797190005 - x),2)+ pow((-1.5162346463290746 - y),2)+ pow((0.7151852854939772 - z),2))) + (0.1) * exp((-0.01) *(pow((1.5543309810366674 - x),2)+ pow((-0.5035300996084915 - y),2)+ pow((0.7151852854939772 - z),2))) + (0.1) * exp((-0.01) *(pow((1.4194587679590787 - x),2)+ pow((-0.7168731907842947 - y),2)+ pow((0.7151852854939772 - z),2))) + (0.1) * exp((-0.01) *(pow((1.2128823403339117 - x),2)+ pow((-1.0436391911928025 - y),2)+ pow((0.7151852854939772 - z),2))) + (0.1) * exp((-0.01) *(pow((1.2145895835374256 - x),2)+ pow((-1.0409386457348808 - y),2)+ pow((0.7151852854939772 - z),2))) + (0.1) * exp((-0.01) *(pow((1.1121549913265991 - x),2)+ pow((-1.2029713732101739 - y),2)+ pow((0.7151852854939772 - z),2))) + (0.1) * exp((-0.01) *(pow((1.0626449384246992 - x),2)+ pow((-1.2812871914898993 - y),2)+ pow((0.7151852854939772 - z),2))) + (0.1) * exp((-0.01) *(pow((1.5782323858858605 - x),2)+ pow((-0.46572246319758953 - y),2)+ pow((0.7151852854939772 - z),2))) + (0.1) * exp((-0.01) *(pow((1.6123772499561355 - x),2)+ pow((-0.41171155403915893 - y),2)+ pow((0.7151852854939772 - z),2))) + (0.1) * exp((-0.01) *(pow((1.5253078465769327 - x),2)+ pow((-0.5494393723931583 - y),2)+ pow((0.7151852854939772 - z),2))) + (0.1) * exp((-0.01) *(pow((1.5440875218155852 - x),2)+ pow((-0.5197333723560201 - y),2)+ pow((0.7151852854939772 - z),2))) + (0.1) * exp((-0.01) *(pow((1.3153169325447382 - x),2)+ pow((-0.8816064637175094 - y),2)+ pow((0.7151852854939772 - z),2))) + (0.1) * exp((-0.01) *(pow((1.6635945460615493 - x),2)+ pow((-0.3306951903015118 - y),2)+ pow((0.7151852854939772 - z),2))) + (0.1) * exp((-0.01) *(pow((1.426287740773134 - x),2)+ pow((-0.7060710089526081 - y),2)+ pow((0.7151852854939772 - z),2))) + (0.1) * exp((-0.01) *(pow((1.5509164946296397 - x),2)+ pow((-0.5089311905243348 - y),2)+ pow((0.7151852854939772 - z),2))) + (0.1) * exp((-0.01) *(pow((1.4467746592152992 - x),2)+ pow((-0.6736644634575495 - y),2)+ pow((0.7151852854939772 - z),2))) + (0.1) * exp((-0.01) *(pow((1.1548360714144434 - x),2)+ pow((-1.135457736762135 - y),2)+ pow((0.7151852854939772 - z),2))) + (0.1) * exp((-0.01) *(pow((1.5696961698682912 - x),2)+ pow((-0.4792251904871978 - y),2)+ pow((0.7151852854939772 - z),2))) + (0.1) * exp((-0.01) *(pow((1.2384909883866186 - x),2)+ pow((-1.003131009323979 - y),2)+ pow((0.7151852854939772 - z),2))) + (0.1) * exp((-0.01) *(pow((1.1889809354847187 - x),2)+ pow((-1.0814468276037044 - y),2)+ pow((0.7151852854939772 - z),2))) + (0.1) * exp((-0.01) *(pow((0.9550886166033311 - x),2)+ pow((-1.4514215553389573 - y),2)+ pow((0.7151852854939772 - z),2))) + (0.1) * exp((-0.01) *(pow((1.508235414541795 - x),2)+ pow((-0.5764448269723736 - y),2)+ pow((0.7151852854939772 - z),2))) + (0.1) * exp((-0.01) *(pow((1.327267634969335 - x),2)+ pow((-0.8627026455120578 - y),2)+ pow((0.7151852854939772 - z),2))) + (0.1) * exp((-0.01) *(pow((1.0728883976457821 - x),2)+ pow((-1.2650839187423695 - y),2)+ pow((0.7151852854939772 - z),2))) + (0.1) * exp((-0.01) *(pow((1.1650795306355257 - x),2)+ pow((-1.1192544640146063 - y),2)+ pow((0.7151852854939772 - z),2))) + (0.1) * exp((-0.01) *(pow((0.9653320758244142 - x),2)+ pow((-1.4352182825914275 - y),2)+ pow((0.7151852854939772 - z),2))) + (0.1) * exp((-0.01) *(pow((0.8885061316662937 - x),2)+ pow((-1.556742828197898 - y),2)+ pow((0.7151852854939772 - z),2))) + (0.1) * exp((-0.01) *(pow((1.1087405049195713 - x),2)+ pow((-1.2083724641260172 - y),2)+ pow((0.7151852854939772 - z),2))) + (0.1) * exp((-0.01) *(pow((1.2162968267409393 - x),2)+ pow((-1.0382381002769592 - y),2)+ pow((0.7151852854939772 - z),2))) + (0.1) * exp((-0.01) *(pow((1.3631197422431243 - x),2)+ pow((-0.8059911908957056 - y),2)+ pow((0.7151852854939772 - z),2))) + (0.1) * exp((-0.01) *(pow((0.9687465622314418 - x),2)+ pow((-1.4298171916755842 - y),2)+ pow((0.7151852854939772 - z),2))) + (0.1) * exp((-0.01) *(pow((0.8799699156487253 - x),2)+ pow((-1.5702455554875052 - y),2)+ pow((0.7151852854939772 - z),2))) + (0.1) * exp((-0.01) *(pow((1.4399456864012439 - x),2)+ pow((-0.6844666452892361 - y),2)+ pow((0.7151852854939772 - z),2))) + (0.1) * exp((-0.01) *(pow((1.6516438436369532 - x),2)+ pow((-0.3495990085069621 - y),2)+ pow((0.7151852854939772 - z),2))) + (0.1) * exp((-0.01) *(pow((1.412629795145024 - x),2)+ pow((-0.72767537261598 - y),2)+ pow((0.7151852854939772 - z),2))) + (0.1) * exp((-0.01) *(pow((1.2401982315901323 - x),2)+ pow((-1.0004304638660573 - y),2)+ pow((0.7151852854939772 - z),2))) + (0.1) * exp((-0.01) *(pow((0.9875262374700933 - x),2)+ pow((-1.4001111916384472 - y),2)+ pow((0.7151852854939772 - z),2))) + (0.1) * exp((-0.01) *(pow((1.245319961200674 - x),2)+ pow((-0.9923288274922922 - y),2)+ pow((0.7151852854939772 - z),2))) + (0.1) * exp((-0.01) *(pow((1.0472797495930755 - x),2)+ pow((-1.305592100611193 - y),2)+ pow((0.7151852854939772 - z),2))) + (0.1) * exp((-0.01) *(pow((1.1462998553968742 - x),2)+ pow((-1.1489604640517432 - y),2)+ pow((0.7151852854939772 - z),2))) + (0.1) * exp((-0.01) *(pow((1.1326419097687643 - x),2)+ pow((-1.1705648277151153 - y),2)+ pow((0.7151852854939772 - z),2))) + (0.1) * exp((-0.01) *(pow((1.197517151502288 - x),2)+ pow((-1.0679441003140961 - y),2)+ pow((0.7151852854939772 - z),2))) + (0.1) * exp((-0.01) *(pow((1.6140844931596494 - x),2)+ pow((-0.4090110085812373 - y),2)+ pow((0.7151852854939772 - z),2))) + (0.1) * exp((-0.01) *(pow((1.1428853689898466 - x),2)+ pow((-1.1543615549675865 - y),2)+ pow((0.7151852854939772 - z),2))) + (0.1) * exp((-0.01) *(pow((1.486041252896116 - x),2)+ pow((-0.6115519179253539 - y),2)+ pow((0.7151852854939772 - z),2))) + (0.1) * exp((-0.01) *(pow((1.0011841830982033 - x),2)+ pow((-1.3785068279750752 - y),2)+ pow((0.7151852854939772 - z),2))) + (0.1) * exp((-0.01) *(pow((1.1309346665652504 - x),2)+ pow((-1.173265373173037 - y),2)+ pow((0.7151852854939772 - z),2))) + (0.1) * exp((-0.01) *(pow((1.2726358524568937 - x),2)+ pow((-0.9491201001655483 - y),2)+ pow((0.7151852854939772 - z),2))) + (0.1) * exp((-0.01) *(pow((1.0950825592914615 - x),2)+ pow((-1.2299768277893892 - y),2)+ pow((0.7151852854939772 - z),2))) + (0.1) * exp((-0.01) *(pow((1.6277424387877601 - x),2)+ pow((-0.38740664491786403 - y),2)+ pow((0.7151852854939772 - z),2))) + (0.1) * exp((-0.01) *(pow((1.171908503449581 - x),2)+ pow((-1.1084522821829197 - y),2)+ pow((0.7151852854939772 - z),2))) + (0.1) * exp((-0.01) *(pow((1.4996991985242267 - x),2)+ pow((-0.5899475542619806 - y),2)+ pow((0.7151852854939772 - z),2))) + (0.1) * exp((-0.01) *(pow((1.2026388811128295 - x),2)+ pow((-1.0598424639403312 - y),2)+ pow((0.7151852854939772 - z),2))) + (0.1) * exp((-0.01) *(pow((1.2043461243163425 - x),2)+ pow((-1.0571419184824107 - y),2)+ pow((0.7151852854939772 - z),2))) + (0.1) * exp((-0.01) *(pow((1.2692213660498661 - x),2)+ pow((-0.9545211910813916 - y),2)+ pow((0.7151852854939772 - z),2))) + (0.1) * exp((-0.01) *(pow((0.9704538054349549 - x),2)+ pow((-1.4271166462176637 - y),2)+ pow((0.7151852854939772 - z),2))) + (0.1) * exp((-0.01) *(pow((0.883384402055753 - x),2)+ pow((-1.564844464571662 - y),2)+ pow((0.7151852854939772 - z),2))) + (0.1) * exp((-0.01) *(pow((1.3716559582606935 - x),2)+ pow((-0.7924884636060973 - y),2)+ pow((0.7151852854939772 - z),2))) + (0.1) * exp((-0.01) *(pow((1.5918903315139703 - x),2)+ pow((-0.44411809953421755 - y),2)+ pow((0.7151852854939772 - z),2))) + (0.1) * exp((-0.01) *(pow((1.47409055047152 - x),2)+ pow((-0.6304557361308042 - y),2)+ pow((0.7151852854939772 - z),2))) + (0.1) * exp((-0.01) *(pow((1.1053260185125435 - x),2)+ pow((-1.2137735550418605 - y),2)+ pow((0.7151852854939772 - z),2))) + (0.1) * exp((-0.01) *(pow((1.6396931412123563 - x),2)+ pow((-0.3685028267124137 - y),2)+ pow((0.7151852854939772 - z),2))) + (0.1) * exp((-0.01) *(pow((1.5901830883104564 - x),2)+ pow((-0.4468186449921392 - y),2)+ pow((0.7151852854939772 - z),2))) + (0.1) * exp((-0.01) *(pow((1.3921428767028587 - x),2)+ pow((-0.7600819181110386 - y),2)+ pow((0.7151852854939772 - z),2))) + (0.1) * exp((-0.01) *(pow((1.0899608296809198 - x),2)+ pow((-1.2380784641631541 - y),2)+ pow((0.7151852854939772 - z),2))) + (0.1) * exp((-0.01) *(pow((1.3358038509869035 - x),2)+ pow((-0.8491999182224508 - y),2)+ pow((0.7151852854939772 - z),2))) + (0.1) * exp((-0.01) *(pow((1.1377636393793058 - x),2)+ pow((-1.1624631913413503 - y),2)+ pow((0.7151852854939772 - z),2))) + (0.1) * exp((-0.01) *(pow((1.2897082844920313 - x),2)+ pow((-0.9221146455863329 - y),2)+ pow((0.7151852854939772 - z),2))) + (0.1) * exp((-0.01) *(pow((1.3853139038888034 - x),2)+ pow((-0.7708840999427253 - y),2)+ pow((0.7151852854939772 - z),2))) + (0.1) * exp((-0.01) *(pow((1.1804447194671503 - x),2)+ pow((-1.0949495548933115 - y),2)+ pow((0.7151852854939772 - z),2))) + (0.1) * exp((-0.01) *(pow((1.1872736922812048 - x),2)+ pow((-1.084147373061626 - y),2)+ pow((0.7151852854939772 - z),2))) + (0.1) * exp((-0.01) *(pow((1.0609376952211853 - x),2)+ pow((-1.283987736947821 - y),2)+ pow((0.7151852854939772 - z),2))) + (0.1) * exp((-0.01) *(pow((1.1445926121933605 - x),2)+ pow((-1.1516610095096649 - y),2)+ pow((0.7151852854939772 - z),2))) + (0.1) * exp((-0.01) *(pow((1.1292274233617365 - x),2)+ pow((-1.1759659186309586 - y),2)+ pow((0.7151852854939772 - z),2))) + (0.1) * exp((-0.01) *(pow((1.5423802786120713 - x),2)+ pow((-0.5224339178139418 - y),2)+ pow((0.7151852854939772 - z),2))) + (0.1) * exp((-0.01) *(pow((1.6004265475315396 - x),2)+ pow((-0.4306153722446093 - y),2)+ pow((0.7151852854939772 - z),2))) + (0.1) * exp((-0.01) *(pow((1.3733632014642072 - x),2)+ pow((-0.7897879181481756 - y),2)+ pow((0.7151852854939772 - z),2))) + (0.1) * exp((-0.01) *(pow((1.1702012602460672 - x),2)+ pow((-1.1111528276408413 - y),2)+ pow((0.7151852854939772 - z),2))) + (0.1) * exp((-0.01) *(pow((0.943137914178735 - x),2)+ pow((-1.4703253735444077 - y),2)+ pow((0.7151852854939772 - z),2))) + (0.1) * exp((-0.01) *(pow((1.3170241757482521 - x),2)+ pow((-0.8789059182595877 - y),2)+ pow((0.7151852854939772 - z),2))) + (0.1) * exp((-0.01) *(pow((1.2777575820674354 - x),2)+ pow((-0.9410184637917833 - y),2)+ pow((0.7151852854939772 - z),2))) + (0.1) * exp((-0.01) *(pow((1.4006790927204271 - x),2)+ pow((-0.7465791908214316 - y),2)+ pow((0.7151852854939772 - z),2))) + (0.1) * exp((-0.01) *(pow((0.9977696966911755 - x),2)+ pow((-1.3839079188909185 - y),2)+ pow((0.7151852854939772 - z),2))) + (0.1) * exp((-0.01) *(pow((1.02679283115091 - x),2)+ pow((-1.3379986461062516 - y),2)+ pow((0.7151852854939772 - z),2))) + (0.1) * exp((-0.01) *(pow((1.6618873028580354 - x),2)+ pow((-0.33339573575943343 - y),2)+ pow((0.7151852854939772 - z),2))) + (0.1) * exp((-0.01) *(pow((1.6533510868404662 - x),2)+ pow((-0.3468984630490417 - y),2)+ pow((0.7151852854939772 - z),2))) + (0.1) * exp((-0.01) *(pow((1.0370362903719923 - x),2)+ pow((-1.3217953733587229 - y),2)+ pow((0.7151852854939772 - z),2))) + (0.1) * exp((-0.01) *(pow((1.078010127256323 - x),2)+ pow((-1.2569822823686057 - y),2)+ pow((0.7151852854939772 - z),2))) + (0.1) * exp((-0.01) *(pow((1.4450674160117853 - x),2)+ pow((-0.6763650089154711 - y),2)+ pow((0.7151852854939772 - z),2))) + (0.1) * exp((-0.01) *(pow((1.6601800596545215 - x),2)+ pow((-0.3360962812173551 - y),2)+ pow((0.7151852854939772 - z),2))) + (0.1) * exp((-0.01) *(pow((0.932894454957652 - x),2)+ pow((-1.4865286462919376 - y),2)+ pow((0.7151852854939772 - z),2))) + (0.1) * exp((-0.01) *(pow((1.5406730354085574 - x),2)+ pow((-0.5251344632718634 - y),2)+ pow((0.7151852854939772 - z),2))) + (0.1) * exp((-0.01) *(pow((1.5065281713382814 - x),2)+ pow((-0.5791453724302953 - y),2)+ pow((0.7151852854939772 - z),2))) + (0.1) * exp((-0.01) *(pow((0.8867988884627799 - x),2)+ pow((-1.5594433736558198 - y),2)+ pow((0.7151852854939772 - z),2))) + (0.1) * exp((-0.01) *(pow((0.9175292661260281 - x),2)+ pow((-1.5108335554132313 - y),2)+ pow((0.7151852854939772 - z),2))) + (0.1) * exp((-0.01) *(pow((1.6226207091772187 - x),2)+ pow((-0.39550828129162896 - y),2)+ pow((0.7151852854939772 - z),2))) + (0.1) * exp((-0.01) *(pow((1.4706760640644922 - x),2)+ pow((-0.6358568270466476 - y),2)+ pow((0.7151852854939772 - z),2))) + (0.1) * exp((-0.01) *(pow((1.088253586477406 - x),2)+ pow((-1.2407790096210758 - y),2)+ pow((0.7151852854939772 - z),2))) + (0.1) * exp((-0.01) *(pow((1.149714341803902 - x),2)+ pow((-1.1435593731359 - y),2)+ pow((0.7151852854939772 - z),2))) + (0.1) * exp((-0.01) *(pow((1.5492092514261258 - x),2)+ pow((-0.5116317359822564 - y),2)+ pow((0.7151852854939772 - z),2))) + (0.1) * exp((-0.01) *(pow((1.2931227708990591 - x),2)+ pow((-0.9167135546704896 - y),2)+ pow((0.7151852854939772 - z),2))) + (0.1) * exp((-0.01) *(pow((1.4331167135871894 - x),2)+ pow((-0.6952688271209214 - y),2)+ pow((0.7151852854939772 - z),2))) + (0.1) * exp((-0.01) *(pow((1.380192174278262 - x),2)+ pow((-0.7789857363164903 - y),2)+ pow((0.7151852854939772 - z),2))) + (0.1) * exp((-0.01) *(pow((1.5031136849312536 - x),2)+ pow((-0.5845464633461386 - y),2)+ pow((0.7151852854939772 - z),2))) + (0.1) * exp((-0.01) *(pow((1.4177515247555648 - x),2)+ pow((-0.7195737362422163 - y),2)+ pow((0.7151852854939772 - z),2))) + (0.1) * exp((-0.01) *(pow((1.221418556351481 - x),2)+ pow((-1.0301364639031942 - y),2)+ pow((0.7151852854939772 - z),2))) + (0.1) * exp((-0.01) *(pow((1.3494617966150142 - x),2)+ pow((-0.8275955545590775 - y),2)+ pow((0.7151852854939772 - z),2))) + (0.1) * exp((-0.01) *(pow((0.8936278612768352 - x),2)+ pow((-1.5486411918241332 - y),2)+ pow((0.7151852854939772 - z),2))) + (0.1) * exp((-0.01) *(pow((0.956795859806845 - x),2)+ pow((-1.4487210098810357 - y),2)+ pow((0.7151852854939772 - z),2))) + (0.1) * exp((-0.01) *(pow((1.3682414718536657 - x),2)+ pow((-0.7978895545219405 - y),2)+ pow((0.7151852854939772 - z),2))) + (0.1) * exp((-0.01) *(pow((1.48774849609963 - x),2)+ pow((-0.6088513724674323 - y),2)+ pow((0.7151852854939772 - z),2))) + (0.1) * exp((-0.01) *(pow((1.5372585490015298 - x),2)+ pow((-0.5305355541877067 - y),2)+ pow((0.7151852854939772 - z),2))) + (0.1) * exp((-0.01) *(pow((1.4826267664890884 - x),2)+ pow((-0.6169530088411972 - y),2)+ pow((0.7151852854939772 - z),2))) + (0.1) * exp((-0.01) *(pow((1.1565433146179573 - x),2)+ pow((-1.1327571913042134 - y),2)+ pow((0.7151852854939772 - z),2))) + (0.1) * exp((-0.01) *(pow((0.9038713204979183 - x),2)+ pow((-1.5324379190766033 - y),2)+ pow((0.7151852854939772 - z),2))) + (0.1) * exp((-0.01) *(pow((1.5457947650190982 - x),2)+ pow((-0.5170328268980997 - y),2)+ pow((0.7151852854939772 - z),2))) + (0.1) * exp((-0.01) *(pow((1.0575232088141577 - x),2)+ pow((-1.2893888278636643 - y),2)+ pow((0.7151852854939772 - z),2))) + (0.1) * exp((-0.01) *(pow((1.547502008222612 - x),2)+ pow((-0.5143322814401781 - y),2)+ pow((0.7151852854939772 - z),2))) + (0.1) * exp((-0.01) *(pow((1.5133571441523368 - x),2)+ pow((-0.5683431905986087 - y),2)+ pow((0.7151852854939772 - z),2))) + (0.1) * exp((-0.01) *(pow((1.3136096893412244 - x),2)+ pow((-0.884307009175431 - y),2)+ pow((0.7151852854939772 - z),2))) + (0.1) * exp((-0.01) *(pow((1.148007098600388 - x),2)+ pow((-1.1462599185938216 - y),2)+ pow((0.7151852854939772 - z),2))) + (0.1) * exp((-0.01) *(pow((0.9636248326209004 - x),2)+ pow((-1.4379188280493491 - y),2)+ pow((0.7151852854939772 - z),2))) + (0.1) * exp((-0.01) *(pow((1.2521489340147285 - x),2)+ pow((-0.9815266456606069 - y),2)+ pow((0.7151852854939772 - z),2))) + (0.1) * exp((-0.01) *(pow((1.1343491529722782 - x),2)+ pow((-1.1678642822571936 - y),2)+ pow((0.7151852854939772 - z),2))) + (0.1) * exp((-0.01) *(pow((1.5953048179209979 - x),2)+ pow((-0.4387170086183742 - y),2)+ pow((0.7151852854939772 - z),2))) + (0.1) * exp((-0.01) *(pow((0.9107002933119728 - x),2)+ pow((-1.5216357372449179 - y),2)+ pow((0.7151852854939772 - z),2))) + (0.1) * exp((-0.01) *(pow((1.4245804975696201 - x),2)+ pow((-0.7087715544105297 - y),2)+ pow((0.7151852854939772 - z),2))) + (0.1) * exp((-0.01) *(pow((1.2265402859620216 - x),2)+ pow((-1.0220348275294304 - y),2)+ pow((0.7151852854939772 - z),2))) + (0.1) * exp((-0.01) *(pow((1.1770302330601226 - x),2)+ pow((-1.1003506458091548 - y),2)+ pow((0.7151852854939772 - z),2))) + (0.1) * exp((-0.01) *(pow((1.074595640849296 - x),2)+ pow((-1.2623833732844478 - y),2)+ pow((0.7151852854939772 - z),2))) + (0.1) * exp((-0.01) *(pow((1.665301789265063 - x),2)+ pow((-0.3279946448435901 - y),2)+ pow((0.7151852854939772 - z),2))) + (0.1) * exp((-0.01) *(pow((1.2487344476077007 - x),2)+ pow((-0.9869277365764502 - y),2)+ pow((0.7151852854939772 - z),2))) + (0.1) * exp((-0.01) *(pow((1.209467853926884 - x),2)+ pow((-1.0490402821086457 - y),2)+ pow((0.7151852854939772 - z),2))) + (0.1) * exp((-0.01) *(pow((1.125812936954709 - x),2)+ pow((-1.1813670095468018 - y),2)+ pow((0.7151852854939772 - z),2))) + (0.1) * exp((-0.01) *(pow((1.4792122800820615 - x),2)+ pow((-0.6223540997570393 - y),2)+ pow((0.7151852854939772 - z),2))) + (0.1) * exp((-0.01) *(pow((1.1633722874320118 - x),2)+ pow((-1.121955009472528 - y),2)+ pow((0.7151852854939772 - z),2))) + (0.1) * exp((-0.01) *(pow((0.9294799685506243 - x),2)+ pow((-1.4919297372077809 - y),2)+ pow((0.7151852854939772 - z),2))) + (0.1) * exp((-0.01) *(pow((1.2367837451831047 - x),2)+ pow((-1.0058315547819006 - y),2)+ pow((0.7151852854939772 - z),2))) + (0.1) * exp((-0.01) *(pow((1.3238531485623075 - x),2)+ pow((-0.8681037364279011 - y),2)+ pow((0.7151852854939772 - z),2))) + (0.1) * exp((-0.01) *(pow((0.9960624534876618 - x),2)+ pow((-1.38660846434884 - y),2)+ pow((0.7151852854939772 - z),2))) + (0.1) * exp((-0.01) *(pow((1.2760503388639215 - x),2)+ pow((-0.943719009249705 - y),2)+ pow((0.7151852854939772 - z),2))) + (0.1) * exp((-0.01) *(pow((1.3904356334993448 - x),2)+ pow((-0.7627824635689603 - y),2)+ pow((0.7151852854939772 - z),2))) + (0.1) * exp((-0.01) *(pow((1.4092153087379964 - x),2)+ pow((-0.7330764635318233 - y),2)+ pow((0.7151852854939772 - z),2))) + (0.1) * exp((-0.01) *(pow((0.9926479670806341 - x),2)+ pow((-1.3920095552646834 - y),2)+ pow((0.7151852854939772 - z),2))) + (0.1) * exp((-0.01) *(pow((1.3818994174817756 - x),2)+ pow((-0.7762851908585686 - y),2)+ pow((0.7151852854939772 - z),2))) + (0.1) * exp((-0.01) *(pow((1.4160442815520518 - x),2)+ pow((-0.7222742817001367 - y),2)+ pow((0.7151852854939772 - z),2))) + (0.1) * exp((-0.01) *(pow((1.2077606107233703 - x),2)+ pow((-1.0517408275665674 - y),2)+ pow((0.7151852854939772 - z),2))) + (0.1) * exp((-0.01) *(pow((1.2828793116779769 - x),2)+ pow((-0.9329168274180183 - y),2)+ pow((0.7151852854939772 - z),2))) + (0.1) * exp((-0.01) *(pow((1.4945774689136853 - x),2)+ pow((-0.5980491906357456 - y),2)+ pow((0.7151852854939772 - z),2))) + (0.1) * exp((-0.01) *(pow((1.255563420421756 - x),2)+ pow((-0.9761255547447636 - y),2)+ pow((0.7151852854939772 - z),2))) + (0.1) * exp((-0.01) *(pow((1.3187314189517658 - x),2)+ pow((-0.8762053728016661 - y),2)+ pow((0.7151852854939772 - z),2))) + (0.1) * exp((-0.01) *(pow((1.1684940170425535 - x),2)+ pow((-1.113853373098763 - y),2)+ pow((0.7151852854939772 - z),2))) + (0.1) * exp((-0.01) *(pow((1.6192062227701909 - x),2)+ pow((-0.4009093722074723 - y),2)+ pow((0.7151852854939772 - z),2))) + (0.1) * exp((-0.01) *(pow((1.6243279523807326 - x),2)+ pow((-0.3928077358337073 - y),2)+ pow((0.7151852854939772 - z),2))) + (0.1) * exp((-0.01) *(pow((1.511649900948823 - x),2)+ pow((-0.5710437360565304 - y),2)+ pow((0.7151852854939772 - z),2))) + (0.1) * exp((-0.01) *(pow((0.9260654821435974 - x),2)+ pow((-1.497330828123623 - y),2)+ pow((0.7151852854939772 - z),2))) + (0.1) * exp((-0.01) *(pow((1.5270150897804466 - x),2)+ pow((-0.5467388269352367 - y),2)+ pow((0.7151852854939772 - z),2))) + (0.1) * exp((-0.01) *(pow((1.3836066606852895 - x),2)+ pow((-0.773584645400647 - y),2)+ pow((0.7151852854939772 - z),2))) + (0.1) * exp((-0.01) *(pow((1.0250855879473963 - x),2)+ pow((-1.3406991915641733 - y),2)+ pow((0.7151852854939772 - z),2))) + (0.1) * exp((-0.01) *(pow((1.4143370383485379 - x),2)+ pow((-0.7249748271580584 - y),2)+ pow((0.7151852854939772 - z),2))) + (-0.003738436102866942)\n"
     ]
    }
   ],
   "source": [
    "x=0;\n",
    "for i in range(len(dual_coef)):  # Loop over each class equation\n",
    "    print(\"HELLO WORLD\")\n",
    "    \n",
    "    equation = f\"f_{i}(x) = \"\n",
    "    print(len(support_vectors))\n",
    "    for j in range(len(lst[i])) :  # Loop over each support vector\n",
    "        coef = dual_coef[i, j]\n",
    "        sv = lst[i][j]\n",
    "        if coef!=0.000000000000000000:\n",
    "            equation += f\"({coef}) * exp((-{gamma}) *(pow(({sv[0]} - x),2)+ pow(({sv[1]:} - y),2)+ pow(({sv[2]:} - z),2))) + \"\n",
    "\n",
    "    equation += f\"({intercepts[i]})\"  # Add intercept\n",
    "    print(equation)\n",
    "    x=x+n_support_per_class[i]"
   ]
  },
  {
   "cell_type": "code",
   "execution_count": 34,
   "id": "db6647ea-2cd1-4212-89f7-5cd642432c1f",
   "metadata": {},
   "outputs": [
    {
     "name": "stdout",
     "output_type": "stream",
     "text": [
      "Manual Scores: [[-10.08045019   6.30710552  16.38755571]\n",
      " [-10.11471164   6.39984863  16.51456027]\n",
      " [ -6.68037453  10.78338676  17.4637613 ]\n",
      " [ -9.37275866   8.96865957  18.34141823]\n",
      " [ -6.51106153  10.95289377  17.46395529]\n",
      " [-10.09205517   6.33658927  16.42864444]\n",
      " [ -6.0599895   11.05222026  17.11220976]\n",
      " [ -9.37600062   8.97205221  18.34805283]\n",
      " [-10.16616392   6.73475994  16.90092386]\n",
      " [ -9.4072519    9.00335123  18.41060313]]\n",
      "Sklearn Scores: [[-0.24322374  1.1287276   2.22475746]\n",
      " [-0.24277605  1.13278662  2.22291375]\n",
      " [ 2.21896819  1.18989785 -0.25469039]\n",
      " [-0.19005395  2.22229521  0.86561048]\n",
      " [ 2.22439491  1.19713288 -0.25937768]\n",
      " [-0.243091    1.13001808  2.22419642]\n",
      " [ 2.23205471  1.20773783 -0.2659289 ]\n",
      " [-0.1900511   2.22229817  0.86559551]\n",
      " [-0.24014822  1.14769102  2.21349572]\n",
      " [-0.18972366  2.22193875  0.86611708]]\n",
      "Predictions: [2 2 0 1 0 2 0 1 2 1]\n"
     ]
    }
   ],
   "source": [
    "manual_scores = []\n",
    "for x in x_test:\n",
    "    scores = []\n",
    "    for i in range(len(best_svm.classes_)-1):  # One score per class\n",
    "        score = np.sum([\n",
    "            coef * np.exp(-gamma * np.sum((sv - x) ** 2))\n",
    "            for coef, sv in zip(best_svm.dual_coef_[i], best_svm.support_vectors_)\n",
    "        ]) + best_svm.intercept_[i]\n",
    "        scores.append(score)\n",
    "    scores.append(scores[1]-scores[0])\n",
    "    manual_scores.append(scores)\n",
    "\n",
    "manual_scores = np.array(manual_scores)\n",
    "\n",
    "# Compare with sklearn's decision function\n",
    "sklearn_scores = best_svm.decision_function(x_test)\n",
    "print(\"Manual Scores:\", manual_scores[:10])\n",
    "print(\"Sklearn Scores:\", sklearn_scores[:10])\n",
    "print(\"Predictions:\", y_pred[:10])"
   ]
  },
  {
   "cell_type": "code",
   "execution_count": null,
   "id": "3f06ac7e-7c3b-4067-9d10-5f3155a2ba25",
   "metadata": {},
   "outputs": [],
   "source": []
  },
  {
   "cell_type": "code",
   "execution_count": null,
   "id": "c3411245-a42a-41d0-8404-3897e123560b",
   "metadata": {},
   "outputs": [],
   "source": []
  }
 ],
 "metadata": {
  "kernelspec": {
   "display_name": "Python 3 (ipykernel)",
   "language": "python",
   "name": "python3"
  },
  "language_info": {
   "codemirror_mode": {
    "name": "ipython",
    "version": 3
   },
   "file_extension": ".py",
   "mimetype": "text/x-python",
   "name": "python",
   "nbconvert_exporter": "python",
   "pygments_lexer": "ipython3",
   "version": "3.10.0"
  }
 },
 "nbformat": 4,
 "nbformat_minor": 5
}
